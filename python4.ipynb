{
 "cells": [
  {
   "cell_type": "code",
   "execution_count": 1,
   "id": "cbd858bb-2cb2-4a0a-9975-f1072cbb325f",
   "metadata": {},
   "outputs": [],
   "source": [
    "a = [1,2,3,4,5,6]\n"
   ]
  },
  {
   "cell_type": "code",
   "execution_count": 3,
   "id": "d9a9c78e-c5f7-4fbd-a408-f0115b4b77b4",
   "metadata": {},
   "outputs": [
    {
     "data": {
      "text/plain": [
       "1"
      ]
     },
     "execution_count": 3,
     "metadata": {},
     "output_type": "execute_result"
    }
   ],
   "source": [
    "a[0]"
   ]
  },
  {
   "cell_type": "code",
   "execution_count": 5,
   "id": "1c9929e3-95ca-47c8-b4ef-bc03dc8a18ae",
   "metadata": {},
   "outputs": [],
   "source": [
    "b = \"hello\""
   ]
  },
  {
   "cell_type": "code",
   "execution_count": 7,
   "id": "57ec2b18-1ed2-4d62-b343-d05800b8ef55",
   "metadata": {},
   "outputs": [
    {
     "data": {
      "text/plain": [
       "'h'"
      ]
     },
     "execution_count": 7,
     "metadata": {},
     "output_type": "execute_result"
    }
   ],
   "source": [
    "b[0]"
   ]
  },
  {
   "cell_type": "code",
   "execution_count": 11,
   "id": "8253353b-6b1a-4577-8ea3-d4940f5066b7",
   "metadata": {},
   "outputs": [],
   "source": [
    "a = [1,2,3,4,5,6]"
   ]
  },
  {
   "cell_type": "code",
   "execution_count": 13,
   "id": "1662e52b-8460-4091-b169-e7bed925d839",
   "metadata": {},
   "outputs": [
    {
     "name": "stdout",
     "output_type": "stream",
     "text": [
      "1\n",
      "2\n",
      "3\n",
      "4\n",
      "5\n",
      "6\n"
     ]
    }
   ],
   "source": [
    "for i in a:\n",
    "    print(i)"
   ]
  },
  {
   "cell_type": "code",
   "execution_count": 15,
   "id": "a09e0c7f-0395-482a-80ae-a0c61217678e",
   "metadata": {},
   "outputs": [
    {
     "name": "stdout",
     "output_type": "stream",
     "text": [
      "apple\n",
      "banana\n",
      "cherry\n"
     ]
    }
   ],
   "source": [
    "fruits = ['apple', 'banana', 'cherry']\n",
    "\n",
    "for fruit in fruits:\n",
    "    print(fruit)"
   ]
  },
  {
   "cell_type": "code",
   "execution_count": 17,
   "id": "7b07f40d-03d9-4e6e-a4e1-55153d1a468f",
   "metadata": {},
   "outputs": [
    {
     "data": {
      "text/plain": [
       "range(0, 5)"
      ]
     },
     "execution_count": 17,
     "metadata": {},
     "output_type": "execute_result"
    }
   ],
   "source": [
    "range(0,5)"
   ]
  },
  {
   "cell_type": "code",
   "execution_count": 19,
   "id": "85df3b11-9670-48c7-9a01-0056cc922a44",
   "metadata": {},
   "outputs": [
    {
     "name": "stdout",
     "output_type": "stream",
     "text": [
      "0\n",
      "2\n",
      "4\n",
      "6\n",
      "8\n"
     ]
    }
   ],
   "source": [
    "for i in range(0,10,2):\n",
    "    print(i)"
   ]
  },
  {
   "cell_type": "code",
   "execution_count": 21,
   "id": "dd214b3d-7dca-4255-a990-cde49ccd4948",
   "metadata": {},
   "outputs": [],
   "source": [
    "a = []"
   ]
  },
  {
   "cell_type": "code",
   "execution_count": 23,
   "id": "33063d71-6c5c-42f6-9c82-66f20a901b22",
   "metadata": {},
   "outputs": [
    {
     "name": "stdout",
     "output_type": "stream",
     "text": [
      "Loop is finished!\n"
     ]
    }
   ],
   "source": [
    "for i in a:\n",
    "    print(i)\n",
    "else:\n",
    "    print(\"Loop is finished!\")"
   ]
  },
  {
   "cell_type": "code",
   "execution_count": 25,
   "id": "65dcab51-fb87-4083-b469-91bd095fed05",
   "metadata": {},
   "outputs": [
    {
     "name": "stdout",
     "output_type": "stream",
     "text": [
      "i=0, j=0\n",
      "i=0, j=1\n",
      "i=1, j=0\n",
      "i=1, j=1\n",
      "i=2, j=0\n",
      "i=2, j=1\n"
     ]
    }
   ],
   "source": [
    "for i in range(3):\n",
    "    for j in range(2):\n",
    "        print(f\"i={i}, j={j}\")"
   ]
  },
  {
   "cell_type": "code",
   "execution_count": 27,
   "id": "896b8145-cf65-4953-8372-48fe1291d243",
   "metadata": {},
   "outputs": [
    {
     "name": "stdout",
     "output_type": "stream",
     "text": [
      "This is outer loop\n",
      "This is inner loop\n",
      "This is inner loop\n",
      "This is inner loop\n",
      "This is outer loop\n",
      "This is inner loop\n",
      "This is inner loop\n",
      "This is inner loop\n",
      "This is outer loop\n",
      "This is inner loop\n",
      "This is inner loop\n",
      "This is inner loop\n"
     ]
    }
   ],
   "source": [
    "for i in range(3):\n",
    "    print(\"This is outer loop\")\n",
    "    for j in range(3):\n",
    "        print(\"This is inner loop\")\n",
    "        \n",
    "\n",
    "\n"
   ]
  },
  {
   "cell_type": "code",
   "execution_count": 29,
   "id": "75d4a245-8605-4e80-a913-15b0002469d9",
   "metadata": {},
   "outputs": [
    {
     "name": "stdout",
     "output_type": "stream",
     "text": [
      "0\n",
      "This is will be 1st\n",
      "This is second\n",
      "This is third\n",
      "1\n",
      "This is will be 1st\n",
      "This is second\n",
      "This is third\n",
      "2\n",
      "This is will be 1st\n",
      "This is second\n",
      "This is third\n"
     ]
    }
   ],
   "source": [
    "for i in range(3):\n",
    "    print(i)\n",
    "    print(\"This is will be 1st\")\n",
    "    print(\"This is second\")\n",
    "    print(\"This is third\")\n",
    "\n",
    "\n",
    "     "
   ]
  },
  {
   "cell_type": "code",
   "execution_count": 31,
   "id": "c854e88b-6996-4c1d-b6e2-f1830e7788be",
   "metadata": {},
   "outputs": [
    {
     "name": "stdout",
     "output_type": "stream",
     "text": [
      "1\n",
      "hello World\n",
      "this is awsome\n",
      "3\n",
      "hello World\n",
      "this is awsome\n",
      "5\n",
      "hello World\n",
      "this is awsome\n",
      "7\n",
      "hello World\n",
      "this is awsome\n",
      "9\n",
      "hello World\n",
      "this is awsome\n"
     ]
    }
   ],
   "source": [
    "\n",
    "\n",
    "numbers = [1, 3, 5, 7, 9]\n",
    "\n",
    "\n",
    "for num in numbers:\n",
    "    print(num)\n",
    "    print(\"hello World\")\n",
    "    print(\"this is awsome\")"
   ]
  },
  {
   "cell_type": "code",
   "execution_count": 35,
   "id": "c6a97a8c-8844-45f6-8182-d24626b5e4e8",
   "metadata": {},
   "outputs": [
    {
     "name": "stdout",
     "output_type": "stream",
     "text": [
      "Hello World."
     ]
    }
   ],
   "source": [
    "  \n",
    "st = \"Hello World.\"\n",
    "for i in st:\n",
    "    print(i, end=\"\")\n",
    "\n",
    "\n"
   ]
  },
  {
   "cell_type": "code",
   "execution_count": 37,
   "id": "96ef3a81-fca4-4c41-9c0f-1f3dbb8832a1",
   "metadata": {},
   "outputs": [],
   "source": [
    "a = range(1,10,2)"
   ]
  },
  {
   "cell_type": "code",
   "execution_count": 39,
   "id": "a6ce4e12-10a7-4b2b-afac-116ec4ef762b",
   "metadata": {},
   "outputs": [
    {
     "name": "stdout",
     "output_type": "stream",
     "text": [
      "1\n",
      "3\n",
      "5\n"
     ]
    }
   ],
   "source": [
    "print(a[0])\n",
    "print(a[1])\n",
    "print(a[2])"
   ]
  },
  {
   "cell_type": "code",
   "execution_count": 41,
   "id": "5674210d-b202-4e8c-ad8b-4ff06a7b72b6",
   "metadata": {},
   "outputs": [
    {
     "name": "stdout",
     "output_type": "stream",
     "text": [
      "10\n",
      "9\n",
      "8\n",
      "7\n",
      "6\n",
      "5\n",
      "4\n",
      "3\n",
      "2\n",
      "1\n"
     ]
    }
   ],
   "source": [
    "for i in range(10,0,-1):            \n",
    "    print(i)                        \n",
    "\n",
    "\n"
   ]
  },
  {
   "cell_type": "code",
   "execution_count": 43,
   "id": "b8e21238-a594-442e-ad2c-10149918e395",
   "metadata": {},
   "outputs": [
    {
     "name": "stdout",
     "output_type": "stream",
     "text": [
      "0\n",
      "1\n",
      "3\n",
      "4\n"
     ]
    }
   ],
   "source": [
    "for number in range(5):\n",
    "    if number == 2:\n",
    "        continue  \n",
    "    print(number)"
   ]
  },
  {
   "cell_type": "code",
   "execution_count": 45,
   "id": "039dde58-ef1f-447e-8e9f-d7e73d6a1f92",
   "metadata": {},
   "outputs": [
    {
     "name": "stdout",
     "output_type": "stream",
     "text": [
      "Outer Loop 0\n",
      "Inner Loop 0\n",
      "Inner Loop 1\n",
      "Inner Loop 2\n",
      "Inner Loop 3\n",
      "Inner Loop 4\n",
      "Outer Loop 1\n",
      "Inner Loop 0\n",
      "Inner Loop 1\n",
      "Inner Loop 2\n",
      "Inner Loop 3\n",
      "Inner Loop 4\n",
      "Outer Loop 2\n",
      "Inner Loop 0\n",
      "Inner Loop 1\n",
      "Inner Loop 2\n",
      "Inner Loop 3\n",
      "Inner Loop 4\n",
      "Outer Loop 3\n",
      "Inner Loop 0\n",
      "Inner Loop 1\n",
      "Inner Loop 2\n",
      "Inner Loop 3\n",
      "Inner Loop 4\n",
      "Rest of the Code\n"
     ]
    }
   ],
   "source": [
    "\n",
    "\n",
    "for i in range(4):             \n",
    "\t\tprint(\"Outer Loop\", i)     \n",
    "\t\tfor j in range(5):       \n",
    "\t\t\tprint(\"Inner Loop\", j)\n",
    "print(\"Rest of the Code\")\n",
    "\n",
    "\n",
    "                                                    #inner for loop will run only if outer runs else it wont run"
   ]
  },
  {
   "cell_type": "code",
   "execution_count": 47,
   "id": "0d7479e8-2ede-4e6d-ac2f-17cb58f71df7",
   "metadata": {},
   "outputs": [
    {
     "name": "stdout",
     "output_type": "stream",
     "text": [
      "0\n",
      "1\n",
      "2\n",
      "3\n",
      "4\n"
     ]
    }
   ],
   "source": [
    "\n",
    "for number in range(10):\n",
    "    if number == 5:\n",
    "        break  \n",
    "    print(number)"
   ]
  },
  {
   "cell_type": "code",
   "execution_count": 49,
   "id": "6de803d5-4601-4e24-85cb-df0b571becb6",
   "metadata": {},
   "outputs": [
    {
     "name": "stdout",
     "output_type": "stream",
     "text": [
      "0\n",
      "1\n",
      "3\n",
      "4\n"
     ]
    }
   ],
   "source": [
    "for number in range(5):\n",
    "    if number == 2:\n",
    "        continue  \n",
    "    print(number)"
   ]
  },
  {
   "cell_type": "code",
   "execution_count": 51,
   "id": "5caa1613-d518-4754-9302-9a3936a963b2",
   "metadata": {},
   "outputs": [
    {
     "name": "stdout",
     "output_type": "stream",
     "text": [
      "Count is: 1\n",
      "Count is: 2\n",
      "Count is: 3\n",
      "Count is: 4\n",
      "Count is: 5\n"
     ]
    }
   ],
   "source": [
    "count = 1\n",
    "\n",
    "while count <= 5:\n",
    "    print(\"Count is:\", count)\n",
    "    count +=1\n",
    "    "
   ]
  },
  {
   "cell_type": "code",
   "execution_count": 53,
   "id": "da04f8a1-3377-4ae1-bca3-bb5685c30509",
   "metadata": {},
   "outputs": [
    {
     "name": "stdout",
     "output_type": "stream",
     "text": [
      "Current number is: 10\n",
      "Current number is: 8\n",
      "Current number is: 6\n",
      "Current number is: 4\n",
      "Current number is: 2\n"
     ]
    }
   ],
   "source": [
    "number = 10  \n",
    "\n",
    "while number > 0:  \n",
    "    print(\"Current number is:\", number)\n",
    "    number -= 2  "
   ]
  },
  {
   "cell_type": "code",
   "execution_count": 55,
   "id": "f230e803-91a3-4cbe-a442-bcf1d68a7e17",
   "metadata": {},
   "outputs": [
    {
     "name": "stdout",
     "output_type": "stream",
     "text": [
      "x is: 3\n",
      "x is: 2\n",
      "x is: 1\n",
      "Loop has ended.\n"
     ]
    }
   ],
   "source": [
    "x = 3\n",
    "\n",
    "while x > 0:\n",
    "    print(\"x is:\", x)\n",
    "    x -= 1\n",
    "else:\n",
    "    print(\"Loop has ended.\")"
   ]
  },
  {
   "cell_type": "code",
   "execution_count": null,
   "id": "c886f719-5d88-4a77-9aa3-04da13a78599",
   "metadata": {},
   "outputs": [],
   "source": []
  }
 ],
 "metadata": {
  "kernelspec": {
   "display_name": "Python [conda env:base] *",
   "language": "python",
   "name": "conda-base-py"
  },
  "language_info": {
   "codemirror_mode": {
    "name": "ipython",
    "version": 3
   },
   "file_extension": ".py",
   "mimetype": "text/x-python",
   "name": "python",
   "nbconvert_exporter": "python",
   "pygments_lexer": "ipython3",
   "version": "3.12.7"
  }
 },
 "nbformat": 4,
 "nbformat_minor": 5
}
