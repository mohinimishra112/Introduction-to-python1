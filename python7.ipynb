{
 "cells": [
  {
   "cell_type": "code",
   "execution_count": 1,
   "id": "3fd6cf43-4a1b-469a-9bf8-4e887df34414",
   "metadata": {},
   "outputs": [],
   "source": [
    "my_string = \"Python Programming\""
   ]
  },
  {
   "cell_type": "code",
   "execution_count": 3,
   "id": "f26492e4-3b12-4de6-b05b-fd071ddcf3c4",
   "metadata": {},
   "outputs": [
    {
     "data": {
      "text/plain": [
       "'Pyt'"
      ]
     },
     "execution_count": 3,
     "metadata": {},
     "output_type": "execute_result"
    }
   ],
   "source": [
    "my_string[:3]"
   ]
  },
  {
   "cell_type": "code",
   "execution_count": 5,
   "id": "b620a5a7-dba6-4663-906c-ee9d40ebe1bb",
   "metadata": {},
   "outputs": [
    {
     "data": {
      "text/plain": [
       "'ytho'"
      ]
     },
     "execution_count": 5,
     "metadata": {},
     "output_type": "execute_result"
    }
   ],
   "source": [
    "my_string[1:5]"
   ]
  },
  {
   "cell_type": "code",
   "execution_count": 7,
   "id": "53f7837c-a32a-4557-b88f-8953841bb44e",
   "metadata": {},
   "outputs": [
    {
     "data": {
      "text/plain": [
       "'n'"
      ]
     },
     "execution_count": 7,
     "metadata": {},
     "output_type": "execute_result"
    }
   ],
   "source": [
    "my_string[-2:-1]"
   ]
  },
  {
   "cell_type": "code",
   "execution_count": 9,
   "id": "3966a07a-0327-4c29-8c32-39ac18dc6e12",
   "metadata": {},
   "outputs": [],
   "source": [
    "text = \"Python Programming\"\n",
    "substring = text[0:6]  # 'Python"
   ]
  },
  {
   "cell_type": "code",
   "execution_count": 11,
   "id": "8998ac85-defb-43d4-9c77-b098c07b9c48",
   "metadata": {},
   "outputs": [
    {
     "data": {
      "text/plain": [
       "'Python'"
      ]
     },
     "execution_count": 11,
     "metadata": {},
     "output_type": "execute_result"
    }
   ],
   "source": [
    "substring"
   ]
  },
  {
   "cell_type": "code",
   "execution_count": 13,
   "id": "49234650-0a6e-4537-bae1-ca2f622ed824",
   "metadata": {},
   "outputs": [
    {
     "data": {
      "text/plain": [
       "'Pto rgam'"
      ]
     },
     "execution_count": 13,
     "metadata": {},
     "output_type": "execute_result"
    }
   ],
   "source": [
    "text = \"Python Programming\"\n",
    "text[0:16:2]  "
   ]
  },
  {
   "cell_type": "code",
   "execution_count": 15,
   "id": "b33c8e69-c33a-4570-85bc-b727bfa4dbfc",
   "metadata": {},
   "outputs": [
    {
     "data": {
      "text/plain": [
       "'Python Programming'"
      ]
     },
     "execution_count": 15,
     "metadata": {},
     "output_type": "execute_result"
    }
   ],
   "source": [
    "text"
   ]
  },
  {
   "cell_type": "code",
   "execution_count": 17,
   "id": "0b6715d4-cb86-4765-86b5-e54882517a78",
   "metadata": {},
   "outputs": [
    {
     "data": {
      "text/plain": [
       "'Python P'"
      ]
     },
     "execution_count": 17,
     "metadata": {},
     "output_type": "execute_result"
    }
   ],
   "source": [
    "text[ : 8]"
   ]
  },
  {
   "cell_type": "code",
   "execution_count": 19,
   "id": "44d08fa5-5dd8-4aac-919c-4d6110d6d4be",
   "metadata": {},
   "outputs": [
    {
     "data": {
      "text/plain": [
       "'thon Programming'"
      ]
     },
     "execution_count": 19,
     "metadata": {},
     "output_type": "execute_result"
    }
   ],
   "source": [
    "text[2: ]"
   ]
  },
  {
   "cell_type": "code",
   "execution_count": 21,
   "id": "0cde1ff7-4925-4af2-b88d-0249d00467e1",
   "metadata": {},
   "outputs": [],
   "source": [
    "   text = \"Python Programming\"\n",
    "   substring = text[-10:]  "
   ]
  },
  {
   "cell_type": "code",
   "execution_count": 23,
   "id": "4987fb36-2bf8-4729-a00e-d3227f75f78a",
   "metadata": {},
   "outputs": [
    {
     "data": {
      "text/plain": [
       "'rogramming'"
      ]
     },
     "execution_count": 23,
     "metadata": {},
     "output_type": "execute_result"
    }
   ],
   "source": [
    "substring\n",
    "\n"
   ]
  },
  {
   "cell_type": "code",
   "execution_count": 25,
   "id": "fd1974b3-26b5-437c-935c-0cbe3f89dd85",
   "metadata": {},
   "outputs": [],
   "source": [
    "   \n",
    "\n",
    "   substring = text[-10:-3]  "
   ]
  },
  {
   "cell_type": "code",
   "execution_count": 27,
   "id": "8be9e612-819d-43d0-a161-861176a1bad6",
   "metadata": {},
   "outputs": [],
   "source": [
    "   text = \"Python Programming\"\n",
    "   reversed_text = text[::-1] "
   ]
  },
  {
   "cell_type": "code",
   "execution_count": 29,
   "id": "1816213f-1820-44de-a969-5cf32d271b89",
   "metadata": {},
   "outputs": [
    {
     "data": {
      "text/plain": [
       "'gnimmargorP nohtyP'"
      ]
     },
     "execution_count": 29,
     "metadata": {},
     "output_type": "execute_result"
    }
   ],
   "source": [
    "reversed_text"
   ]
  },
  {
   "cell_type": "code",
   "execution_count": 47,
   "id": "1a49b935-5f3a-4ea1-83fa-5204117db643",
   "metadata": {},
   "outputs": [],
   "source": [
    "original_string = \"Hello, World!\""
   ]
  },
  {
   "cell_type": "code",
   "execution_count": 49,
   "id": "2755c4c0-791d-4335-a3db-7f855cd381c7",
   "metadata": {},
   "outputs": [],
   "source": [
    "new_string = original_string.replace(\"World\", \"Python\")"
   ]
  },
  {
   "cell_type": "code",
   "execution_count": 51,
   "id": "c2e3de3c-9edc-48ca-824b-ba741430cfa3",
   "metadata": {},
   "outputs": [
    {
     "data": {
      "text/plain": [
       "'Hello, Python!'"
      ]
     },
     "execution_count": 51,
     "metadata": {},
     "output_type": "execute_result"
    }
   ],
   "source": [
    "new_string"
   ]
  },
  {
   "cell_type": "code",
   "execution_count": 53,
   "id": "646dbbae-cc17-4242-862c-fe8f7897e22f",
   "metadata": {},
   "outputs": [
    {
     "data": {
      "text/plain": [
       "'Hello, World!'"
      ]
     },
     "execution_count": 53,
     "metadata": {},
     "output_type": "execute_result"
    }
   ],
   "source": [
    "original_string"
   ]
  },
  {
   "cell_type": "code",
   "execution_count": 55,
   "id": "59582fbe-e6ee-4b1f-a773-78de573e5ea8",
   "metadata": {},
   "outputs": [],
   "source": [
    "name='My name'"
   ]
  },
  {
   "cell_type": "code",
   "execution_count": 57,
   "id": "8145a4cb-51dc-4e46-a6d3-c47cf019912d",
   "metadata": {},
   "outputs": [],
   "source": [
    "your_name=name.replace('My', 'his')"
   ]
  },
  {
   "cell_type": "code",
   "execution_count": 59,
   "id": "e5a9b5f6-34b9-4e9f-9595-115796d88605",
   "metadata": {},
   "outputs": [
    {
     "data": {
      "text/plain": [
       "'his name'"
      ]
     },
     "execution_count": 59,
     "metadata": {},
     "output_type": "execute_result"
    }
   ],
   "source": [
    "your_name"
   ]
  },
  {
   "cell_type": "code",
   "execution_count": 61,
   "id": "e912ebd2-4203-4166-8aa0-39358f35ee2d",
   "metadata": {},
   "outputs": [
    {
     "data": {
      "text/plain": [
       "'My name'"
      ]
     },
     "execution_count": 61,
     "metadata": {},
     "output_type": "execute_result"
    }
   ],
   "source": [
    "name"
   ]
  },
  {
   "cell_type": "code",
   "execution_count": 71,
   "id": "ad40f885-c6fc-4336-9d95-8b1dba82d736",
   "metadata": {},
   "outputs": [],
   "source": [
    "\n",
    "part1 = \"Hello\"\n",
    "part2 = \"World\"\n",
    "combined_string = part1 + \" \" + part2 + \"!\""
   ]
  },
  {
   "cell_type": "code",
   "execution_count": 73,
   "id": "d1f02d96-565d-4f31-b9c6-a4c35bb57ffc",
   "metadata": {},
   "outputs": [
    {
     "data": {
      "text/plain": [
       "'Hello World!'"
      ]
     },
     "execution_count": 73,
     "metadata": {},
     "output_type": "execute_result"
    }
   ],
   "source": [
    "combined_string"
   ]
  },
  {
   "cell_type": "code",
   "execution_count": 75,
   "id": "358a0fbc-0ebc-4241-9fb4-5976c814ab6e",
   "metadata": {},
   "outputs": [
    {
     "data": {
      "text/plain": [
       "'Hello World'"
      ]
     },
     "execution_count": 75,
     "metadata": {},
     "output_type": "execute_result"
    }
   ],
   "source": [
    "\"Hello\" + \" \" + \"World\""
   ]
  },
  {
   "cell_type": "code",
   "execution_count": 77,
   "id": "40e4975f-6643-4f20-8d87-dc5a57234ef1",
   "metadata": {},
   "outputs": [
    {
     "data": {
      "text/plain": [
       "'Hello World!'"
      ]
     },
     "execution_count": 77,
     "metadata": {},
     "output_type": "execute_result"
    }
   ],
   "source": [
    "combined_string"
   ]
  },
  {
   "cell_type": "code",
   "execution_count": 79,
   "id": "2f21d312-190b-4f1e-a23e-3d5fc31ca5dd",
   "metadata": {},
   "outputs": [
    {
     "data": {
      "text/plain": [
       "'Hello'"
      ]
     },
     "execution_count": 79,
     "metadata": {},
     "output_type": "execute_result"
    }
   ],
   "source": [
    "part1"
   ]
  },
  {
   "cell_type": "code",
   "execution_count": 81,
   "id": "a5305029-b8d4-4434-a9c7-c07f0d8257cb",
   "metadata": {},
   "outputs": [
    {
     "data": {
      "text/plain": [
       "'World'"
      ]
     },
     "execution_count": 81,
     "metadata": {},
     "output_type": "execute_result"
    }
   ],
   "source": [
    "part2"
   ]
  },
  {
   "cell_type": "code",
   "execution_count": 83,
   "id": "94e51409-6794-44ff-a16c-09cae39ff87c",
   "metadata": {},
   "outputs": [],
   "source": [
    "name = \"Alice\"\n",
    "age = 30\n",
    "formatted_string = f\"My name is {name} and I am {age} years old.\""
   ]
  },
  {
   "cell_type": "code",
   "execution_count": 85,
   "id": "d3bca157-26b2-475a-89b5-067cbfe901da",
   "metadata": {},
   "outputs": [
    {
     "data": {
      "text/plain": [
       "'My name is Alice and I am 30 years old.'"
      ]
     },
     "execution_count": 85,
     "metadata": {},
     "output_type": "execute_result"
    }
   ],
   "source": [
    "formatted_string"
   ]
  },
  {
   "cell_type": "code",
   "execution_count": 87,
   "id": "41f261c0-5f43-40e7-9ec1-fcbd69bbc2d9",
   "metadata": {},
   "outputs": [],
   "source": [
    "my_string = \"Hello, World!\""
   ]
  },
  {
   "cell_type": "code",
   "execution_count": 89,
   "id": "fb460311-8535-4a37-8530-f014879cbb09",
   "metadata": {},
   "outputs": [],
   "source": [
    "my_string = None  "
   ]
  },
  {
   "cell_type": "code",
   "execution_count": 91,
   "id": "4de378a1-31d3-4791-bfcf-d2086a895ce8",
   "metadata": {},
   "outputs": [],
   "source": [
    "my_string"
   ]
  },
  {
   "cell_type": "code",
   "execution_count": 93,
   "id": "08a20feb-42d8-4e2c-9551-40d484be8d05",
   "metadata": {},
   "outputs": [
    {
     "data": {
      "text/plain": [
       "'Hello, World!'"
      ]
     },
     "execution_count": 93,
     "metadata": {},
     "output_type": "execute_result"
    }
   ],
   "source": [
    "my_string = \"Hello, World!\"\n",
    "\n",
    "my_string"
   ]
  },
  {
   "cell_type": "code",
   "execution_count": 95,
   "id": "c75183d6-368a-4391-b26c-3373f69bd1d9",
   "metadata": {},
   "outputs": [],
   "source": []
  },
  {
   "cell_type": "code",
   "execution_count": 97,
   "id": "3eee3c85-b154-4258-822f-f153ca2fcca8",
   "metadata": {},
   "outputs": [],
   "source": [
    "string1 = \"Hello\"\n",
    "string2 = \"World\"\n",
    "result = string1  +\" \"+ string2"
   ]
  },
  {
   "cell_type": "code",
   "execution_count": 99,
   "id": "51b2fa2a-e5c5-4aa6-8346-b4eceaa28502",
   "metadata": {},
   "outputs": [
    {
     "data": {
      "text/plain": [
       "'Hello World'"
      ]
     },
     "execution_count": 99,
     "metadata": {},
     "output_type": "execute_result"
    }
   ],
   "source": [
    "result"
   ]
  },
  {
   "cell_type": "code",
   "execution_count": 103,
   "id": "729dbdf1-d754-4851-8fe4-e38d9d02ed6a",
   "metadata": {},
   "outputs": [],
   "source": [
    "string = \"Ha\"\n",
    "result = string "
   ]
  },
  {
   "cell_type": "code",
   "execution_count": 105,
   "id": "9596a66b-5a20-4006-a5c9-f41e89ba3faf",
   "metadata": {},
   "outputs": [
    {
     "data": {
      "text/plain": [
       "'Ha'"
      ]
     },
     "execution_count": 105,
     "metadata": {},
     "output_type": "execute_result"
    }
   ],
   "source": [
    "result"
   ]
  },
  {
   "cell_type": "code",
   "execution_count": 107,
   "id": "81ee17ff-597b-4266-886d-2abd7b7da19f",
   "metadata": {},
   "outputs": [
    {
     "name": "stdout",
     "output_type": "stream",
     "text": [
      "Concatenated String: Hello World\n"
     ]
    }
   ],
   "source": [
    "\n",
    "string1 = \"Hello\"\n",
    "string2 = \"World\"\n",
    "concatenated_string = string1 + \" \" + string2\n",
    "print(\"Concatenated String:\", concatenated_string)"
   ]
  },
  {
   "cell_type": "code",
   "execution_count": 109,
   "id": "c4cbd1b2-9609-4cdc-b495-baaa7d2caabe",
   "metadata": {},
   "outputs": [
    {
     "name": "stdout",
     "output_type": "stream",
     "text": [
      "Repeated String: HaHaHa\n"
     ]
    }
   ],
   "source": [
    "\n",
    "string = \"Ha\"\n",
    "repeated_string = string * 3\n",
    "print(\"Repeated String:\", repeated_string)"
   ]
  },
  {
   "cell_type": "code",
   "execution_count": 111,
   "id": "8f52afe7-4f97-4b1a-8821-d578c082361f",
   "metadata": {},
   "outputs": [
    {
     "name": "stdout",
     "output_type": "stream",
     "text": [
      "Hella Warld!\n"
     ]
    }
   ],
   "source": [
    "\n",
    "message = \"Hello World!\"\n",
    "new_message = message.replace(\"o\", \"a\")\n",
    "print(new_message) "
   ]
  },
  {
   "cell_type": "code",
   "execution_count": 113,
   "id": "ed236d40-e300-40fe-8920-b90a37600ddd",
   "metadata": {},
   "outputs": [
    {
     "name": "stdout",
     "output_type": "stream",
     "text": [
      "Game Of Thrones\n"
     ]
    }
   ],
   "source": [
    "\n",
    "title = \"game of thrones\"\n",
    "capitalized_title = title.title()\n",
    "print(capitalized_title)  "
   ]
  },
  {
   "cell_type": "code",
   "execution_count": 115,
   "id": "8f59b378-6258-430e-9ffa-028e84ad775a",
   "metadata": {},
   "outputs": [
    {
     "name": "stdout",
     "output_type": "stream",
     "text": [
      "hello world\n"
     ]
    }
   ],
   "source": [
    "\n",
    "user_input = \"   hello world   \"\n",
    "trimmed_input = user_input.strip()\n",
    "print(trimmed_input)  "
   ]
  },
  {
   "cell_type": "code",
   "execution_count": 117,
   "id": "4b38e4d4-6b70-423f-abad-102d1baf0a64",
   "metadata": {},
   "outputs": [
    {
     "name": "stdout",
     "output_type": "stream",
     "text": [
      "['Python', 'is', 'fun', 'to', 'learn']\n"
     ]
    }
   ],
   "source": [
    "\n",
    "sentence = \"Python is fun to learn\"\n",
    "words_list = sentence.split()\n",
    "print(words_list) "
   ]
  },
  {
   "cell_type": "code",
   "execution_count": 119,
   "id": "50d31215-579c-47e2-b3a3-70c9577bf5f7",
   "metadata": {},
   "outputs": [
    {
     "name": "stdout",
     "output_type": "stream",
     "text": [
      "3\n"
     ]
    }
   ],
   "source": [
    "\n",
    "quote = \"To be or not to be\"\n",
    "index_of_be = quote.find(\"be\")\n",
    "print(index_of_be)"
   ]
  },
  {
   "cell_type": "code",
   "execution_count": 121,
   "id": "e94c36ea-91fc-437d-bf3a-d01a083b604a",
   "metadata": {},
   "outputs": [
    {
     "name": "stdout",
     "output_type": "stream",
     "text": [
      "True\n"
     ]
    }
   ],
   "source": [
    "\n",
    "filename = \"report2024.pdf\"\n",
    "starts_with_report = filename.startswith(\"report\")\n",
    "print(starts_with_report) "
   ]
  },
  {
   "cell_type": "code",
   "execution_count": 123,
   "id": "6dc587df-f7ee-44a9-8a14-3371cee17ed8",
   "metadata": {},
   "outputs": [
    {
     "name": "stdout",
     "output_type": "stream",
     "text": [
      "True\n"
     ]
    }
   ],
   "source": [
    "\n",
    "code = \"ABC123\"\n",
    "is_alphanumeric = code.isalnum()\n",
    "print(is_alphanumeric)"
   ]
  },
  {
   "cell_type": "code",
   "execution_count": 125,
   "id": "9da82d25-825e-4fea-824e-597d5d1c7848",
   "metadata": {},
   "outputs": [
    {
     "name": "stdout",
     "output_type": "stream",
     "text": [
      "True\n"
     ]
    }
   ],
   "source": [
    "\n",
    "palindrome = \"madam\"\n",
    "reversed_palindrome = palindrome[::-1]\n",
    "is_palindrome = palindrome == reversed_palindrome\n",
    "print(is_palindrome)  \n"
   ]
  },
  {
   "cell_type": "code",
   "execution_count": 127,
   "id": "aa31ac61-962d-4abe-8b95-65da458a9ef1",
   "metadata": {},
   "outputs": [
    {
     "name": "stdout",
     "output_type": "stream",
     "text": [
      "Alice is 30 years old\n"
     ]
    }
   ],
   "source": [
    "\n",
    "name = \"Alice\"\n",
    "age = 30\n",
    "sentence = f\"{name} is {age} years old\"\n",
    "print(sentence) "
   ]
  },
  {
   "cell_type": "code",
   "execution_count": 129,
   "id": "38303db6-9734-42ae-83ad-4133e04ee526",
   "metadata": {},
   "outputs": [],
   "source": [
    "a = \" aslkjfhasjhf\""
   ]
  },
  {
   "cell_type": "code",
   "execution_count": 131,
   "id": "5d9259f1-f384-487a-9515-31850c8a3028",
   "metadata": {},
   "outputs": [],
   "source": [
    "l = [123,\"eja\",20.25,[1,2,3,4,5]]"
   ]
  },
  {
   "cell_type": "code",
   "execution_count": 133,
   "id": "0eefadb8-d22b-4d34-858f-06a5811e8963",
   "metadata": {},
   "outputs": [
    {
     "data": {
      "text/plain": [
       "['first', 'second', 'third']"
      ]
     },
     "execution_count": 133,
     "metadata": {},
     "output_type": "execute_result"
    }
   ],
   "source": [
    "ordered_list = [\"first\", \"second\", \"third\"]\n",
    "ordered_list"
   ]
  },
  {
   "cell_type": "code",
   "execution_count": 137,
   "id": "a9a8d3c6-6857-4a67-9ad0-6e6ecbd86308",
   "metadata": {},
   "outputs": [
    {
     "data": {
      "text/plain": [
       "array('i', [1, 2, 3, 4, 5])"
      ]
     },
     "execution_count": 137,
     "metadata": {},
     "output_type": "execute_result"
    }
   ],
   "source": [
    "import array\n",
    "numbers = array.array('i', [1, 2, 3, 4, 5])\n",
    "numbers"
   ]
  },
  {
   "cell_type": "code",
   "execution_count": 139,
   "id": "3e151d02-8d09-4d63-bdf4-b0e8f50a0c14",
   "metadata": {},
   "outputs": [],
   "source": [
    "\n",
    "import array\n",
    "my_array = array.array('i', [1, 2, 3])\n",
    "my_array.append(4)  "
   ]
  },
  {
   "cell_type": "code",
   "execution_count": 141,
   "id": "9b148b3b-b126-4645-b36c-5eaacbd66e15",
   "metadata": {},
   "outputs": [],
   "source": [
    "my_list = [1, 2, 3]"
   ]
  },
  {
   "cell_type": "code",
   "execution_count": 143,
   "id": "a48baa9f-6333-4e7a-becb-761efb85449a",
   "metadata": {},
   "outputs": [],
   "source": [
    "\n",
    "import array\n",
    "my_array = array.array('i', [1, 2, 3])"
   ]
  },
  {
   "cell_type": "code",
   "execution_count": 145,
   "id": "468dda01-a909-4e4d-b38c-89ea459b007f",
   "metadata": {},
   "outputs": [],
   "source": [
    "\n",
    "fruits = [\"apple\", \"banana\", \"cherry\", \"date\", \"elderberry\"]"
   ]
  },
  {
   "cell_type": "code",
   "execution_count": 147,
   "id": "a7728456-b66a-4982-8f39-2477937ec750",
   "metadata": {},
   "outputs": [
    {
     "name": "stdout",
     "output_type": "stream",
     "text": [
      "apple\n",
      "cherry\n"
     ]
    }
   ],
   "source": [
    "\n",
    "print(fruits[0])  \n",
    "print(fruits[2])  "
   ]
  },
  {
   "cell_type": "code",
   "execution_count": 149,
   "id": "1200cad1-ae9b-4b1f-a766-8a4fd84678c6",
   "metadata": {},
   "outputs": [
    {
     "name": "stdout",
     "output_type": "stream",
     "text": [
      "['Harvard', 'MIT', 'Stanford']\n"
     ]
    }
   ],
   "source": [
    "universities = [\"Harvard\", \"MIT\", \"Stanford\", \"Cambridge\", \"Oxford\", \"Caltech\", \"Imperial\", \"UChicago\", \"ETH Zurich\", \"UCL\"]\n",
    "top_3 = universities[:3]\n",
    "print(top_3)"
   ]
  },
  {
   "cell_type": "code",
   "execution_count": 151,
   "id": "f3476399-0423-4267-9cc8-a17c2c0ff518",
   "metadata": {},
   "outputs": [],
   "source": [
    "\n",
    "cities = [\"New York\", \"Los Angeles\", \"Chicago\", \"Houston\", \"Phoenix\"]"
   ]
  },
  {
   "cell_type": "code",
   "execution_count": 153,
   "id": "3c53a8da-3144-40ff-8778-09f6e6f5067f",
   "metadata": {},
   "outputs": [],
   "source": [
    "\n",
    "del cities[1]"
   ]
  },
  {
   "cell_type": "code",
   "execution_count": 155,
   "id": "320b4657-fa5c-4bf2-a2f6-d945829e326a",
   "metadata": {},
   "outputs": [
    {
     "data": {
      "text/plain": [
       "['New York', 'Chicago', 'Houston', 'Phoenix']"
      ]
     },
     "execution_count": 155,
     "metadata": {},
     "output_type": "execute_result"
    }
   ],
   "source": [
    "cities"
   ]
  },
  {
   "cell_type": "code",
   "execution_count": 157,
   "id": "817f2a0a-4002-45b7-b5dc-f5a9047c15f0",
   "metadata": {},
   "outputs": [
    {
     "data": {
      "text/plain": [
       "3"
      ]
     },
     "execution_count": 157,
     "metadata": {},
     "output_type": "execute_result"
    }
   ],
   "source": [
    "\n",
    "my_list = ['apple', 'banana', 'cherry']\n",
    "len(my_list)"
   ]
  },
  {
   "cell_type": "code",
   "execution_count": 159,
   "id": "eaa5a24d-3e21-4208-8c4b-28fd699c0c9d",
   "metadata": {},
   "outputs": [
    {
     "name": "stdout",
     "output_type": "stream",
     "text": [
      "apple\n",
      "banana\n",
      "cherry\n",
      "date\n"
     ]
    }
   ],
   "source": [
    "fruits = [\"apple\", \"banana\", \"cherry\", \"date\"]\n",
    "i = 0\n",
    "\n",
    "while i < len(fruits):\n",
    "    print(fruits[i])\n",
    "    i += 1\n"
   ]
  },
  {
   "cell_type": "code",
   "execution_count": 161,
   "id": "a5dda3dd-f1b9-455c-8955-5c32c3ff550a",
   "metadata": {},
   "outputs": [],
   "source": [
    "fruits = ['apple','cherry', 'banana', 'cherry','cherry']"
   ]
  },
  {
   "cell_type": "code",
   "execution_count": 163,
   "id": "18c437c6-fd7d-49f4-ac06-3bbf7342199c",
   "metadata": {},
   "outputs": [
    {
     "data": {
      "text/plain": [
       "1"
      ]
     },
     "execution_count": 163,
     "metadata": {},
     "output_type": "execute_result"
    }
   ],
   "source": [
    "fruits.index('cherry')"
   ]
  },
  {
   "cell_type": "code",
   "execution_count": 165,
   "id": "b50d9df0-1af7-4a06-b459-bbe09df2ab24",
   "metadata": {},
   "outputs": [
    {
     "data": {
      "text/plain": [
       "1"
      ]
     },
     "execution_count": 165,
     "metadata": {},
     "output_type": "execute_result"
    }
   ],
   "source": [
    "fruits.index('cherry')"
   ]
  },
  {
   "cell_type": "code",
   "execution_count": 167,
   "id": "93ab7af7-6cde-4999-abf7-8ba46dada5e8",
   "metadata": {},
   "outputs": [
    {
     "data": {
      "text/plain": [
       "1"
      ]
     },
     "execution_count": 167,
     "metadata": {},
     "output_type": "execute_result"
    }
   ],
   "source": [
    "fruits.index('cherry')"
   ]
  },
  {
   "cell_type": "code",
   "execution_count": 171,
   "id": "415081d2-f3a2-43b3-9265-9e309d281ffd",
   "metadata": {},
   "outputs": [
    {
     "data": {
      "text/plain": [
       "8"
      ]
     },
     "execution_count": 171,
     "metadata": {},
     "output_type": "execute_result"
    }
   ],
   "source": [
    "\n",
    "\n",
    "numbers = [4, 7, 1, 8]\n",
    "max(numbers)"
   ]
  },
  {
   "cell_type": "code",
   "execution_count": 173,
   "id": "12adbb94-79d1-4253-b672-7a7f1780a0d8",
   "metadata": {},
   "outputs": [
    {
     "data": {
      "text/plain": [
       "1"
      ]
     },
     "execution_count": 173,
     "metadata": {},
     "output_type": "execute_result"
    }
   ],
   "source": [
    "numbers = [4, 7, 1, 8]\n",
    "min_value = min(numbers)\n",
    "\n",
    "min_value\n"
   ]
  },
  {
   "cell_type": "code",
   "execution_count": 175,
   "id": "9ad49769-17f5-4a42-9750-9c1ebebb0c00",
   "metadata": {},
   "outputs": [],
   "source": [
    "numbers = [4, 7, 1, 8]\n",
    "total = sum(numbers)"
   ]
  },
  {
   "cell_type": "code",
   "execution_count": 177,
   "id": "c9d5e1c5-9c92-4683-90b9-e32282eb4ec4",
   "metadata": {},
   "outputs": [
    {
     "data": {
      "text/plain": [
       "20"
      ]
     },
     "execution_count": 177,
     "metadata": {},
     "output_type": "execute_result"
    }
   ],
   "source": [
    "total"
   ]
  },
  {
   "cell_type": "code",
   "execution_count": 179,
   "id": "cfd6a2d8-6b1d-48a5-812e-871de53e5f91",
   "metadata": {},
   "outputs": [
    {
     "data": {
      "text/plain": [
       "3"
      ]
     },
     "execution_count": 179,
     "metadata": {},
     "output_type": "execute_result"
    }
   ],
   "source": [
    "fruits = ['apple', 'banana', 'cherry']\n",
    "len(fruits)"
   ]
  },
  {
   "cell_type": "code",
   "execution_count": 181,
   "id": "f8934830-e214-4e82-b642-6b869cef5383",
   "metadata": {},
   "outputs": [],
   "source": [
    "fruits = ['apple', 'banana', 'cherry']\n",
    "num_fruits = len(fruits)"
   ]
  },
  {
   "cell_type": "code",
   "execution_count": 183,
   "id": "950bd7ed-a2c1-43c6-92f6-e21a7df0a2d1",
   "metadata": {},
   "outputs": [
    {
     "data": {
      "text/plain": [
       "False"
      ]
     },
     "execution_count": 183,
     "metadata": {},
     "output_type": "execute_result"
    }
   ],
   "source": [
    "bool_list = [True, True, False]\n",
    "all(bool_list)"
   ]
  },
  {
   "cell_type": "code",
   "execution_count": 185,
   "id": "9c74025f-c6c2-42eb-8d57-b8d01fc187e7",
   "metadata": {},
   "outputs": [
    {
     "data": {
      "text/plain": [
       "True"
      ]
     },
     "execution_count": 185,
     "metadata": {},
     "output_type": "execute_result"
    }
   ],
   "source": [
    "all(numbers)"
   ]
  },
  {
   "cell_type": "code",
   "execution_count": 187,
   "id": "ab6876a9-cb6e-4720-a689-ca752418130b",
   "metadata": {},
   "outputs": [],
   "source": [
    "bool_list = [False, False, True]\n"
   ]
  },
  {
   "cell_type": "code",
   "execution_count": 189,
   "id": "9506d704-2028-4d67-aac7-1d4e94548d75",
   "metadata": {},
   "outputs": [
    {
     "data": {
      "text/plain": [
       "True"
      ]
     },
     "execution_count": 189,
     "metadata": {},
     "output_type": "execute_result"
    }
   ],
   "source": [
    "any(bool_list)"
   ]
  },
  {
   "cell_type": "code",
   "execution_count": 191,
   "id": "7f0336fa-6366-4295-bc26-a9292d337eb8",
   "metadata": {},
   "outputs": [
    {
     "data": {
      "text/plain": [
       "[3, 1, 4, 1, 5]"
      ]
     },
     "execution_count": 191,
     "metadata": {},
     "output_type": "execute_result"
    }
   ],
   "source": [
    "numbers = [3, 1, 4, 1, 5]\n",
    "numbers"
   ]
  },
  {
   "cell_type": "code",
   "execution_count": 193,
   "id": "4c82df79-069c-4047-bd1c-411e4a7c68d8",
   "metadata": {},
   "outputs": [],
   "source": [
    "numbers.sort()"
   ]
  },
  {
   "cell_type": "code",
   "execution_count": 195,
   "id": "21b8d40a-42c3-4025-9ed2-a886f607d152",
   "metadata": {},
   "outputs": [
    {
     "data": {
      "text/plain": [
       "[1, 1, 3, 4, 5]"
      ]
     },
     "execution_count": 195,
     "metadata": {},
     "output_type": "execute_result"
    }
   ],
   "source": [
    "numbers"
   ]
  },
  {
   "cell_type": "code",
   "execution_count": 197,
   "id": "13189e60-9e50-4ee6-bbf0-40e0f64459ae",
   "metadata": {},
   "outputs": [],
   "source": [
    "a = [9,8,7,5,6,4,1]"
   ]
  },
  {
   "cell_type": "code",
   "execution_count": 199,
   "id": "449711a0-63d4-4543-b1c3-ff138485d195",
   "metadata": {},
   "outputs": [
    {
     "data": {
      "text/plain": [
       "[9, 8, 7, 5, 6, 4, 1]"
      ]
     },
     "execution_count": 199,
     "metadata": {},
     "output_type": "execute_result"
    }
   ],
   "source": [
    "a"
   ]
  },
  {
   "cell_type": "code",
   "execution_count": 201,
   "id": "976dda7a-6763-4594-8775-ab4744abecc4",
   "metadata": {},
   "outputs": [
    {
     "data": {
      "text/plain": [
       "[3, 4]"
      ]
     },
     "execution_count": 201,
     "metadata": {},
     "output_type": "execute_result"
    }
   ],
   "source": [
    "new_list = [j+2 for j in range(1,3) ]\n",
    "new_list"
   ]
  },
  {
   "cell_type": "code",
   "execution_count": 203,
   "id": "2bc58ff2-4b66-4b95-922e-4d5e4d005d78",
   "metadata": {},
   "outputs": [
    {
     "data": {
      "text/plain": [
       "(1, 2, 3, 4, 5)"
      ]
     },
     "execution_count": 203,
     "metadata": {},
     "output_type": "execute_result"
    }
   ],
   "source": [
    "squares = [i**2 for i in range(1, 6)]\n",
    "1 , 2,3,4,5"
   ]
  },
  {
   "cell_type": "code",
   "execution_count": 205,
   "id": "11b798dc-9816-4295-80ba-763b0f904cdf",
   "metadata": {},
   "outputs": [],
   "source": [
    "for i in range(1, 7):    \n",
    "    squares.append(i**2)"
   ]
  },
  {
   "cell_type": "code",
   "execution_count": 207,
   "id": "8f81e8bb-f034-4a13-adba-f31451b7a6d1",
   "metadata": {},
   "outputs": [],
   "source": [
    "squares = [i**2 for i in range(1,6)]"
   ]
  },
  {
   "cell_type": "code",
   "execution_count": 209,
   "id": "2ef83f8e-9a58-432d-a68a-7f51a06f3579",
   "metadata": {},
   "outputs": [
    {
     "data": {
      "text/plain": [
       "[1, 4, 9, 16, 25]"
      ]
     },
     "execution_count": 209,
     "metadata": {},
     "output_type": "execute_result"
    }
   ],
   "source": [
    "squares"
   ]
  },
  {
   "cell_type": "code",
   "execution_count": 211,
   "id": "a27202ab-ea78-4eef-addb-001061dd025d",
   "metadata": {},
   "outputs": [],
   "source": [
    "even_squares = []\n",
    "for i in range(1, 11):\n",
    "    if i % 2 == 0:\n",
    "        even_squares.append(i**2)\n"
   ]
  },
  {
   "cell_type": "code",
   "execution_count": 213,
   "id": "f864830f-3b0c-4f7d-b14a-f50ac9c76892",
   "metadata": {},
   "outputs": [
    {
     "data": {
      "text/plain": [
       "[4, 16, 36, 64, 100]"
      ]
     },
     "execution_count": 213,
     "metadata": {},
     "output_type": "execute_result"
    }
   ],
   "source": [
    "even_squares"
   ]
  },
  {
   "cell_type": "code",
   "execution_count": 215,
   "id": "8c49fd33-17b9-4b98-910e-67c72632acdc",
   "metadata": {},
   "outputs": [],
   "source": [
    "even_squares = [i**2 for i in range(1, 11) if i % 2 == 0 ]"
   ]
  },
  {
   "cell_type": "code",
   "execution_count": 217,
   "id": "2b5497f8-a944-4c5f-a1c3-868d8ebb34f7",
   "metadata": {},
   "outputs": [
    {
     "data": {
      "text/plain": [
       "[4, 16, 36, 64, 100]"
      ]
     },
     "execution_count": 217,
     "metadata": {},
     "output_type": "execute_result"
    }
   ],
   "source": [
    "even_squares"
   ]
  },
  {
   "cell_type": "code",
   "execution_count": 219,
   "id": "f57ec5fd-3c1d-4a3f-98e7-e9a9ca87ec93",
   "metadata": {},
   "outputs": [
    {
     "data": {
      "text/plain": [
       "[('apple', 'red', 'red'),\n",
       " ('banana', 'yellow', 'yellow'),\n",
       " ('cherry', 'dark red', 'dark red')]"
      ]
     },
     "execution_count": 219,
     "metadata": {},
     "output_type": "execute_result"
    }
   ],
   "source": [
    "fruits = ['apple', 'banana', 'cherry']\n",
    "colors = ['red', 'yellow', 'dark red']\n",
    "colors2 = ['red', 'yellow', 'dark red']\n",
    "combined = list(zip(fruits, colors,colors2))\n",
    "combined"
   ]
  },
  {
   "cell_type": "code",
   "execution_count": 221,
   "id": "98b5805f-33ad-4b21-8203-7793180ae02c",
   "metadata": {},
   "outputs": [
    {
     "data": {
      "text/plain": [
       "[[0, 0, 0], [0, 1, 2], [0, 2, 4]]"
      ]
     },
     "execution_count": 221,
     "metadata": {},
     "output_type": "execute_result"
    }
   ],
   "source": [
    "matrix = []\n",
    "for i in range(3):  \n",
    "    row = []\n",
    "    for j in range(3):   \n",
    "        row.append(i*j)\n",
    "    matrix.append(row)\n",
    "\n",
    "matrix"
   ]
  },
  {
   "cell_type": "code",
   "execution_count": 227,
   "id": "805a91aa-18f0-438c-9be2-cd03f523ff52",
   "metadata": {},
   "outputs": [],
   "source": [
    "\n",
    "\n",
    "L2 = [1,2,3,4,5]\n",
    "L3 = [1,2,3,4,5]           \n",
    "\n",
    "a = dict(zip(L2,L3))\n",
    "\n"
   ]
  },
  {
   "cell_type": "code",
   "execution_count": 229,
   "id": "5fa9c355-66a8-4be7-9a3d-e49d4a9b0f1d",
   "metadata": {},
   "outputs": [
    {
     "data": {
      "text/plain": [
       "{1: 1, 2: 2, 3: 3, 4: 4, 5: 5}"
      ]
     },
     "execution_count": 229,
     "metadata": {},
     "output_type": "execute_result"
    }
   ],
   "source": [
    "a"
   ]
  },
  {
   "cell_type": "code",
   "execution_count": 231,
   "id": "7c2ef94a-1214-4a0f-9d3c-5cb86738adc8",
   "metadata": {},
   "outputs": [],
   "source": [
    "\n",
    "\n",
    "L2 = [1,2,3,4,5]\n",
    "L3 = [1,2,3,4,5]        \n",
    "\n",
    "a = list(zip(L2,L3))\n",
    "\n"
   ]
  },
  {
   "cell_type": "code",
   "execution_count": 233,
   "id": "5f507c09-da75-46f5-9831-df18438fe3f5",
   "metadata": {},
   "outputs": [
    {
     "data": {
      "text/plain": [
       "[(1, 1), (2, 2), (3, 3), (4, 4), (5, 5)]"
      ]
     },
     "execution_count": 233,
     "metadata": {},
     "output_type": "execute_result"
    }
   ],
   "source": [
    "a"
   ]
  },
  {
   "cell_type": "code",
   "execution_count": 235,
   "id": "dcd71c7a-4fca-4c03-bc35-cf6c51b80eeb",
   "metadata": {},
   "outputs": [
    {
     "name": "stdout",
     "output_type": "stream",
     "text": [
      "['Wake up', 'Brush teeth', 'Have breakfast', 'Go for a run', 'Start working']\n"
     ]
    }
   ],
   "source": [
    "tasks = [\"Wake up\", \"Brush teeth\", \"Go for a run\", \"Start working\"]\n",
    "tasks.insert(2, \"Have breakfast\") \n",
    "print(tasks)"
   ]
  },
  {
   "cell_type": "code",
   "execution_count": 237,
   "id": "60d34dc5-5200-46a7-a2d7-677aa321b111",
   "metadata": {},
   "outputs": [
    {
     "name": "stdout",
     "output_type": "stream",
     "text": [
      "['Alice', 'Bob', 'Charlie']\n"
     ]
    }
   ],
   "source": [
    "students = [\"Alice\", \"Bob\", \"Charlie\", \"David\", \"Eva\"]\n",
    "sublist = students[:3] \n",
    "print(sublist)"
   ]
  },
  {
   "cell_type": "code",
   "execution_count": 239,
   "id": "ddf9ff80-d08f-4318-9fde-0ccca0c64bdc",
   "metadata": {},
   "outputs": [
    {
     "name": "stdout",
     "output_type": "stream",
     "text": [
      "[10, 20, 35, 40, 50]\n"
     ]
    }
   ],
   "source": [
    "scores = [10, 20, 30, 40, 50]\n",
    "scores[2] = 35\n",
    "print(scores)"
   ]
  },
  {
   "cell_type": "code",
   "execution_count": 241,
   "id": "946b61b8-6d16-4ce0-8279-8bd9eda1e2a3",
   "metadata": {},
   "outputs": [
    {
     "name": "stdout",
     "output_type": "stream",
     "text": [
      "['Apple', 'Banana', 'Date']\n"
     ]
    }
   ],
   "source": [
    "fruits = [\"Apple\", \"Banana\", \"Cherry\", \"Date\"]\n",
    "fruits.remove(\"Cherry\")  \n",
    "print(fruits)"
   ]
  },
  {
   "cell_type": "code",
   "execution_count": 243,
   "id": "b1d795cd-7cb2-4764-9a69-6b79b3a797ae",
   "metadata": {},
   "outputs": [
    {
     "name": "stdout",
     "output_type": "stream",
     "text": [
      "2\n"
     ]
    }
   ],
   "source": [
    "colors = [\"Red\", \"Green\", \"Blue\", \"Yellow\", \"Purple\"]\n",
    "index_of_blue = colors.index(\"Blue\")\n",
    "print(index_of_blue)"
   ]
  },
  {
   "cell_type": "code",
   "execution_count": 245,
   "id": "e8858179-96d2-4845-9528-ab2c592a7e79",
   "metadata": {},
   "outputs": [
    {
     "name": "stdout",
     "output_type": "stream",
     "text": [
      "3\n"
     ]
    }
   ],
   "source": [
    "grades = [90, 85, 90, 80, 75, 90]\n",
    "count_of_90 = grades.count(90)  \n",
    "print(count_of_90)"
   ]
  },
  {
   "cell_type": "code",
   "execution_count": 247,
   "id": "53c4fd8c-0b46-4bb6-8bbe-d8547bdb5a92",
   "metadata": {},
   "outputs": [
    {
     "name": "stdout",
     "output_type": "stream",
     "text": [
      "['New York', 'Los Angeles', 'Chicago', 'Houston']\n"
     ]
    }
   ],
   "source": [
    "cities = [\"New York\", \"Los Angeles\", \"Chicago\", \"Houston\", \"Phoenix\"]\n",
    "cities.pop()\n",
    "print(cities)"
   ]
  },
  {
   "cell_type": "code",
   "execution_count": 249,
   "id": "51cc6605-d032-40ce-b109-2aaab9097470",
   "metadata": {},
   "outputs": [
    {
     "name": "stdout",
     "output_type": "stream",
     "text": [
      "['Carrot', 'Potato', 'Tomato', 'Cucumber', 'Spinach']\n"
     ]
    }
   ],
   "source": [
    "vegetables = [\"Carrot\", \"Potato\", \"Tomato\"]\n",
    "more_vegetables = [\"Cucumber\", \"Spinach\"]\n",
    "vegetables.extend(more_vegetables) \n",
    "print(vegetables)"
   ]
  },
  {
   "cell_type": "code",
   "execution_count": 251,
   "id": "a0987886-0901-4d8d-a5ea-c44f06acb87c",
   "metadata": {},
   "outputs": [
    {
     "name": "stdout",
     "output_type": "stream",
     "text": [
      "[1, 2, 4, 5, 9]\n"
     ]
    }
   ],
   "source": [
    "numbers = [4, 2, 9, 1, 5]\n",
    "numbers.sort()  \n",
    "print(numbers)"
   ]
  },
  {
   "cell_type": "code",
   "execution_count": null,
   "id": "359b655c-ad51-4e61-b345-2897deec5750",
   "metadata": {},
   "outputs": [],
   "source": []
  }
 ],
 "metadata": {
  "kernelspec": {
   "display_name": "Python [conda env:base] *",
   "language": "python",
   "name": "conda-base-py"
  },
  "language_info": {
   "codemirror_mode": {
    "name": "ipython",
    "version": 3
   },
   "file_extension": ".py",
   "mimetype": "text/x-python",
   "name": "python",
   "nbconvert_exporter": "python",
   "pygments_lexer": "ipython3",
   "version": "3.12.7"
  }
 },
 "nbformat": 4,
 "nbformat_minor": 5
}
