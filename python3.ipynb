{
 "cells": [
  {
   "cell_type": "code",
   "execution_count": 9,
   "id": "370d82c6-211c-4b27-9ded-74c843369de8",
   "metadata": {},
   "outputs": [],
   "source": [
    "a = [1, 2, 3, 4, 5]\n",
    "\n",
    "\n"
   ]
  },
  {
   "cell_type": "code",
   "execution_count": 11,
   "id": "0c1f7ab9-4453-41ba-b88a-1ca8225e15cd",
   "metadata": {},
   "outputs": [
    {
     "name": "stdout",
     "output_type": "stream",
     "text": [
      "1\n",
      "2\n",
      "3\n",
      "4\n",
      "5\n"
     ]
    }
   ],
   "source": [
    "for i in a:\n",
    "    print(i)"
   ]
  },
  {
   "cell_type": "code",
   "execution_count": 15,
   "id": "8baf258d-afde-485b-a260-972e573f9237",
   "metadata": {},
   "outputs": [
    {
     "name": "stdout",
     "output_type": "stream",
     "text": [
      "h\n",
      "e\n",
      "l\n",
      "l\n",
      "o\n"
     ]
    }
   ],
   "source": [
    "word = \"hello\"\n",
    "for letter in word:\n",
    "    print(letter)\n",
    "    "
   ]
  },
  {
   "cell_type": "code",
   "execution_count": 17,
   "id": "ee8b9491-f84c-4fdb-8b24-7998ada3a606",
   "metadata": {},
   "outputs": [
    {
     "data": {
      "text/plain": [
       "range(0, 5)"
      ]
     },
     "execution_count": 17,
     "metadata": {},
     "output_type": "execute_result"
    }
   ],
   "source": [
    "range(0, 5)\n"
   ]
  },
  {
   "cell_type": "raw",
   "id": "00a6acf1-10fe-41f1-8afb-1be2bd6b2ff4",
   "metadata": {},
   "source": [
    "\n",
    "\n"
   ]
  },
  {
   "cell_type": "code",
   "execution_count": 21,
   "id": "466b0720-7356-4ceb-aca5-9c4d31792a6f",
   "metadata": {},
   "outputs": [
    {
     "name": "stdout",
     "output_type": "stream",
     "text": [
      "0\n",
      "1\n",
      "2\n",
      "Loop is finished!\n"
     ]
    }
   ],
   "source": [
    "for i in range(3):\n",
    "    print(i)\n",
    "else:\n",
    "    print(\"Loop is finished!\")"
   ]
  },
  {
   "cell_type": "code",
   "execution_count": 23,
   "id": "51308413-2c67-4e71-a55d-cd1bb6a4ef84",
   "metadata": {},
   "outputs": [
    {
     "name": "stdout",
     "output_type": "stream",
     "text": [
      "i=0, j=0\n",
      "i=0, j=1\n",
      "i=1, j=0\n",
      "i=1, j=1\n",
      "i=2, j=0\n",
      "i=2, j=1\n"
     ]
    }
   ],
   "source": [
    "for i in range(3):\n",
    "    for j in range(2):\n",
    "     print(i, j)"
   ]
  },
  {
   "cell_type": "code",
   "execution_count": 25,
   "id": "df74f0cb-1bd4-4ddc-914f-cb05d98dcf61",
   "metadata": {},
   "outputs": [],
   "source": [
    "name='raj'\n",
    "\n",
    "\n",
    "\n"
   ]
  },
  {
   "cell_type": "code",
   "execution_count": 27,
   "id": "3db5a7b9-957e-478c-b31b-f412a89d529a",
   "metadata": {},
   "outputs": [
    {
     "name": "stdout",
     "output_type": "stream",
     "text": [
      "my name is raj\n"
     ]
    }
   ],
   "source": [
    "print(f'my name is {name}')"
   ]
  },
  {
   "cell_type": "code",
   "execution_count": 29,
   "id": "2fbebb23-412a-4018-9739-485be348921d",
   "metadata": {},
   "outputs": [
    {
     "name": "stdout",
     "output_type": "stream",
     "text": [
      "This is outer loop\n",
      "0 0\n",
      "0 1\n",
      "0 2\n",
      "This is outer loop\n",
      "1 0\n",
      "1 1\n",
      "1 2\n",
      "This is outer loop\n",
      "2 0\n",
      "2 1\n",
      "2 2\n"
     ]
    }
   ],
   "source": [
    "for i in range(3):\n",
    "    print(\"This is outer loop\")\n",
    "    for j in range(3):\n",
    "      print(i, j)  "
   ]
  },
  {
   "cell_type": "code",
   "execution_count": 31,
   "id": "a7a2135b-a1f2-4a2d-9447-d2eb5fc76dad",
   "metadata": {},
   "outputs": [
    {
     "name": "stdout",
     "output_type": "stream",
     "text": [
      "0 = H\n",
      "1 = e\n",
      "2 = l\n",
      "3 = l\n",
      "4 = o\n"
     ]
    }
   ],
   "source": [
    "st = \"Hello\"\n",
    "n = len(st)\n",
    "for i in range(n):\n",
    "    print(i, \"=\",st[i])"
   ]
  },
  {
   "cell_type": "code",
   "execution_count": 33,
   "id": "57c37e46-42a8-49d0-bd7c-8c1ed1fa2f7c",
   "metadata": {},
   "outputs": [
    {
     "name": "stdout",
     "output_type": "stream",
     "text": [
      "0 = H\n",
      "1 = e\n",
      "2 = l\n",
      "3 = l\n",
      "4 = o\n",
      "Rest if the code\n"
     ]
    }
   ],
   "source": [
    "st = \"Hello\"\n",
    "n = len(st)\n",
    "for i in range(n):\n",
    "    print(i, \"=\", st[i])\n",
    "print(\"Rest if the code\")    "
   ]
  },
  {
   "cell_type": "code",
   "execution_count": 38,
   "id": "a7d49704-ce3a-44be-9dce-709a0c8801a5",
   "metadata": {},
   "outputs": [
    {
     "name": "stdout",
     "output_type": "stream",
     "text": [
      "0\n",
      "1\n",
      "2\n",
      "3\n",
      "4\n"
     ]
    }
   ],
   "source": [
    "for number in range(10):\n",
    "    if number == 5:\n",
    "        break\n",
    "    print(number)\n"
   ]
  },
  {
   "cell_type": "code",
   "execution_count": 40,
   "id": "a5b63f22-b072-4295-a97a-baf9efd374ed",
   "metadata": {},
   "outputs": [
    {
     "name": "stdout",
     "output_type": "stream",
     "text": [
      "0\n",
      "1\n",
      "3\n",
      "4\n"
     ]
    }
   ],
   "source": [
    "for number in range(5):\n",
    "    if number == 2:\n",
    "        continue\n",
    "    print(number)    "
   ]
  },
  {
   "cell_type": "code",
   "execution_count": 42,
   "id": "125733cd-3acf-492e-b792-ca4a709f88cd",
   "metadata": {},
   "outputs": [
    {
     "name": "stdout",
     "output_type": "stream",
     "text": [
      "0\n",
      "1\n",
      "3\n",
      "4\n",
      "5\n",
      "6\n",
      "7\n",
      "8\n",
      "9\n"
     ]
    }
   ],
   "source": [
    "for number in range(10):\n",
    "    if number == 2:\n",
    "        continue\n",
    "    print(number)    "
   ]
  },
  {
   "cell_type": "code",
   "execution_count": 44,
   "id": "258b200c-7522-4b2a-b6bb-375fd8645fe3",
   "metadata": {},
   "outputs": [
    {
     "name": "stdout",
     "output_type": "stream",
     "text": [
      "0\n",
      "1\n",
      "2\n",
      "4\n"
     ]
    }
   ],
   "source": [
    "for number in range(5):\n",
    "    if number == 3:\n",
    "        pass\n",
    "    else:\n",
    "        print(number)\n",
    "\n",
    "\n",
    "\n",
    "\n"
   ]
  },
  {
   "cell_type": "code",
   "execution_count": null,
   "id": "92450c69-a4c1-4fc2-9c31-a6d20edc84b4",
   "metadata": {},
   "outputs": [],
   "source": []
  }
 ],
 "metadata": {
  "kernelspec": {
   "display_name": "Python [conda env:base] *",
   "language": "python",
   "name": "conda-base-py"
  },
  "language_info": {
   "codemirror_mode": {
    "name": "ipython",
    "version": 3
   },
   "file_extension": ".py",
   "mimetype": "text/x-python",
   "name": "python",
   "nbconvert_exporter": "python",
   "pygments_lexer": "ipython3",
   "version": "3.12.7"
  }
 },
 "nbformat": 4,
 "nbformat_minor": 5
}
