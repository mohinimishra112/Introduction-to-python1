{
 "cells": [
  {
   "cell_type": "markdown",
   "id": "80ae90d8-c5c4-40c2-9951-e255a1df7bb9",
   "metadata": {},
   "source": [
    "Type Conversion"
   ]
  },
  {
   "cell_type": "code",
   "execution_count": 4,
   "id": "c88f0135-d498-4976-b84a-8d41f33aa4e8",
   "metadata": {},
   "outputs": [],
   "source": [
    "int_value=10"
   ]
  },
  {
   "cell_type": "code",
   "execution_count": 6,
   "id": "0f04f5ea-dce9-4a95-be5f-087b8686a127",
   "metadata": {},
   "outputs": [
    {
     "data": {
      "text/plain": [
       "int"
      ]
     },
     "execution_count": 6,
     "metadata": {},
     "output_type": "execute_result"
    }
   ],
   "source": [
    "type(int_value)"
   ]
  },
  {
   "cell_type": "code",
   "execution_count": 17,
   "id": "8ca0a969-a59c-405d-9db6-b39d1552dc1d",
   "metadata": {},
   "outputs": [],
   "source": [
    "#convert int into float"
   ]
  },
  {
   "cell_type": "code",
   "execution_count": 19,
   "id": "eee19153-0693-4f68-9bbe-3113a9d8f391",
   "metadata": {},
   "outputs": [],
   "source": [
    "int_value = float(int_value)"
   ]
  },
  {
   "cell_type": "code",
   "execution_count": 21,
   "id": "406b6dd0-117f-4493-958a-416493ee258f",
   "metadata": {},
   "outputs": [
    {
     "data": {
      "text/plain": [
       "float"
      ]
     },
     "execution_count": 21,
     "metadata": {},
     "output_type": "execute_result"
    }
   ],
   "source": [
    "type(int_value)"
   ]
  },
  {
   "cell_type": "code",
   "execution_count": 27,
   "id": "1fe80e57-920d-443e-929a-9bcc2bc74ac4",
   "metadata": {},
   "outputs": [],
   "source": [
    "age_value=24\n"
   ]
  },
  {
   "cell_type": "code",
   "execution_count": 29,
   "id": "e5e2c724-8284-4db5-93f1-a2b775b8f999",
   "metadata": {},
   "outputs": [
    {
     "data": {
      "text/plain": [
       "int"
      ]
     },
     "execution_count": 29,
     "metadata": {},
     "output_type": "execute_result"
    }
   ],
   "source": [
    "type(age_value)"
   ]
  },
  {
   "cell_type": "code",
   "execution_count": 31,
   "id": "781db583-bad8-4c85-9b7f-d936aec081ae",
   "metadata": {},
   "outputs": [],
   "source": [
    "age_value=int(age_value)"
   ]
  },
  {
   "cell_type": "code",
   "execution_count": 33,
   "id": "4f384034-c0f7-4314-a3ca-1edb4c6939b2",
   "metadata": {},
   "outputs": [
    {
     "data": {
      "text/plain": [
       "int"
      ]
     },
     "execution_count": 33,
     "metadata": {},
     "output_type": "execute_result"
    }
   ],
   "source": [
    "type(age_value)"
   ]
  },
  {
   "cell_type": "code",
   "execution_count": 35,
   "id": "2c508345-83d1-4375-971f-5e4344117af7",
   "metadata": {},
   "outputs": [],
   "source": [
    "int=25"
   ]
  },
  {
   "cell_type": "code",
   "execution_count": 37,
   "id": "7a6f5150-ce6f-4672-a860-0ebcabbd33f0",
   "metadata": {},
   "outputs": [
    {
     "data": {
      "text/plain": [
       "int"
      ]
     },
     "execution_count": 37,
     "metadata": {},
     "output_type": "execute_result"
    }
   ],
   "source": [
    "type(int)"
   ]
  },
  {
   "cell_type": "code",
   "execution_count": 39,
   "id": "030d1738-cacf-4cd6-9eaa-d5a5a8857651",
   "metadata": {},
   "outputs": [],
   "source": [
    "int=float(int)"
   ]
  },
  {
   "cell_type": "code",
   "execution_count": 41,
   "id": "4f673705-f41b-4936-95f5-bb627b8bf9c6",
   "metadata": {},
   "outputs": [
    {
     "data": {
      "text/plain": [
       "float"
      ]
     },
     "execution_count": 41,
     "metadata": {},
     "output_type": "execute_result"
    }
   ],
   "source": [
    "type(int)"
   ]
  },
  {
   "cell_type": "code",
   "execution_count": 207,
   "id": "ba12e87a-e7e2-43c7-a98e-680ab5035659",
   "metadata": {},
   "outputs": [],
   "source": [
    "age_str='25'\n"
   ]
  },
  {
   "cell_type": "code",
   "execution_count": 209,
   "id": "d0ba59c2-a18f-46dd-bb98-be252503c3ea",
   "metadata": {},
   "outputs": [
    {
     "data": {
      "text/plain": [
       "str"
      ]
     },
     "execution_count": 209,
     "metadata": {},
     "output_type": "execute_result"
    }
   ],
   "source": [
    "type(age_str)"
   ]
  },
  {
   "cell_type": "code",
   "execution_count": 3,
   "id": "ecc2d158-d1df-4396-a28a-a159c66d0cc2",
   "metadata": {},
   "outputs": [],
   "source": [
    "age_str=\"25\"\n",
    "age_int=int(age_str)\n"
   ]
  },
  {
   "cell_type": "code",
   "execution_count": 5,
   "id": "eaf147c4-b274-4404-a2ab-8e219cdfbc34",
   "metadata": {},
   "outputs": [
    {
     "data": {
      "text/plain": [
       "str"
      ]
     },
     "execution_count": 5,
     "metadata": {},
     "output_type": "execute_result"
    }
   ],
   "source": [
    "type(age_str)"
   ]
  },
  {
   "cell_type": "code",
   "execution_count": 7,
   "id": "5515211d-933c-4bf7-a7cd-a3262f6486c2",
   "metadata": {},
   "outputs": [],
   "source": [
    "number=10\n",
    "number_str=str(number) "
   ]
  },
  {
   "cell_type": "code",
   "execution_count": 9,
   "id": "3c9c8456-a521-4e8b-8832-3c9df96bd285",
   "metadata": {},
   "outputs": [
    {
     "data": {
      "text/plain": [
       "int"
      ]
     },
     "execution_count": 9,
     "metadata": {},
     "output_type": "execute_result"
    }
   ],
   "source": [
    "type(number)"
   ]
  },
  {
   "cell_type": "code",
   "execution_count": 81,
   "id": "5c761d25-61e5-4d4a-86f8-46e99aa3703a",
   "metadata": {},
   "outputs": [],
   "source": [
    "#implicit "
   ]
  },
  {
   "cell_type": "code",
   "execution_count": 83,
   "id": "5bc8af8f-a1f0-4062-b9f3-b1f0b258e3b0",
   "metadata": {},
   "outputs": [
    {
     "name": "stdout",
     "output_type": "stream",
     "text": [
      "18.5\n"
     ]
    }
   ],
   "source": [
    "print(8+10.5)"
   ]
  },
  {
   "cell_type": "code",
   "execution_count": 85,
   "id": "7092106b-4bfa-4fa6-9853-1e10fb9b5f85",
   "metadata": {},
   "outputs": [
    {
     "name": "stdout",
     "output_type": "stream",
     "text": [
      "<class 'int'> <class 'float'>\n"
     ]
    }
   ],
   "source": [
    "print(type(8),type(10.5))"
   ]
  },
  {
   "cell_type": "code",
   "execution_count": 87,
   "id": "d662212b-82de-4229-aa8d-7c4bc4bcb9e5",
   "metadata": {},
   "outputs": [],
   "source": [
    "#explict"
   ]
  },
  {
   "cell_type": "code",
   "execution_count": 89,
   "id": "016e17ba-347d-467f-a1f4-f49a4c70f3c1",
   "metadata": {},
   "outputs": [],
   "source": [
    "a=10\n"
   ]
  },
  {
   "cell_type": "code",
   "execution_count": 91,
   "id": "2644f677-2b17-4b1e-b13b-67f16d333e3d",
   "metadata": {},
   "outputs": [],
   "source": [
    "b=str(a)"
   ]
  },
  {
   "cell_type": "code",
   "execution_count": 93,
   "id": "0c5ea724-0d21-4529-a3f3-6b4ead150a67",
   "metadata": {},
   "outputs": [
    {
     "data": {
      "text/plain": [
       "str"
      ]
     },
     "execution_count": 93,
     "metadata": {},
     "output_type": "execute_result"
    }
   ],
   "source": [
    "type(b)"
   ]
  },
  {
   "cell_type": "code",
   "execution_count": 95,
   "id": "ff24b70b-b304-4f6f-ae1a-b72f9a66b10e",
   "metadata": {},
   "outputs": [
    {
     "data": {
      "text/plain": [
       "'20'"
      ]
     },
     "execution_count": 95,
     "metadata": {},
     "output_type": "execute_result"
    }
   ],
   "source": [
    "str(20)"
   ]
  },
  {
   "cell_type": "code",
   "execution_count": 99,
   "id": "3f8be317-d468-402d-9f4e-8cb1ca26310a",
   "metadata": {},
   "outputs": [],
   "source": [
    "#syntax"
   ]
  },
  {
   "cell_type": "code",
   "execution_count": 263,
   "id": "174fb244-b33a-4230-afe6-aafa1ee0c6b5",
   "metadata": {},
   "outputs": [],
   "source": [
    "#It refers to the set of rules that defines the structrure of valid statements and expressions in a programming language\n",
    "#correct syntax is essential for writing code that the interpreter or complier can understand"
   ]
  },
  {
   "cell_type": "code",
   "execution_count": 105,
   "id": "29fc8d78-eea3-4c8e-b04e-c521ddd282d4",
   "metadata": {},
   "outputs": [],
   "source": [
    "#Literals"
   ]
  },
  {
   "cell_type": "code",
   "execution_count": 265,
   "id": "ae564db5-3131-4d83-b727-e8cc8eefc2e5",
   "metadata": {},
   "outputs": [],
   "source": [
    "#a literal is a fixed value that is directly written into the code and represents specific data"
   ]
  },
  {
   "cell_type": "code",
   "execution_count": 109,
   "id": "fe3aedbb-bf9a-4502-aee4-f5f0ceee4321",
   "metadata": {},
   "outputs": [],
   "source": [
    "#Operators"
   ]
  },
  {
   "cell_type": "markdown",
   "id": "6415a334-3f7e-4fa9-a1ed-04af838d5eb2",
   "metadata": {},
   "source": [
    "types of arithmetic operators:"
   ]
  },
  {
   "cell_type": "code",
   "execution_count": 123,
   "id": "41d40613-d392-446f-a61f-f96e6c862f87",
   "metadata": {},
   "outputs": [],
   "source": [
    "#Addition"
   ]
  },
  {
   "cell_type": "code",
   "execution_count": 125,
   "id": "380f1741-ae02-4ec9-862a-c94d8be61a09",
   "metadata": {},
   "outputs": [
    {
     "data": {
      "text/plain": [
       "13"
      ]
     },
     "execution_count": 125,
     "metadata": {},
     "output_type": "execute_result"
    }
   ],
   "source": [
    "5+8"
   ]
  },
  {
   "cell_type": "code",
   "execution_count": 127,
   "id": "e1cf3791-33de-4471-9c87-a8203ebe357f",
   "metadata": {},
   "outputs": [],
   "source": [
    "a=56"
   ]
  },
  {
   "cell_type": "code",
   "execution_count": 129,
   "id": "eee06959-c6c7-4017-9a52-db4656d3f8bd",
   "metadata": {},
   "outputs": [],
   "source": [
    "b=78"
   ]
  },
  {
   "cell_type": "code",
   "execution_count": 131,
   "id": "160d6e35-14ae-444d-a698-6f4ece18a970",
   "metadata": {},
   "outputs": [
    {
     "data": {
      "text/plain": [
       "134"
      ]
     },
     "execution_count": 131,
     "metadata": {},
     "output_type": "execute_result"
    }
   ],
   "source": [
    "a+b"
   ]
  },
  {
   "cell_type": "code",
   "execution_count": 133,
   "id": "0cd62e80-03f3-4dfd-86e8-e4ab0a5ca9da",
   "metadata": {},
   "outputs": [],
   "source": [
    "#subtraction"
   ]
  },
  {
   "cell_type": "code",
   "execution_count": 135,
   "id": "6d3b493a-63ac-4acf-b8d0-73d40ffd49cd",
   "metadata": {},
   "outputs": [],
   "source": [
    "a=67"
   ]
  },
  {
   "cell_type": "code",
   "execution_count": 137,
   "id": "05ce59d4-c30e-42f4-a38b-ab5506176b04",
   "metadata": {},
   "outputs": [],
   "source": [
    "b=45"
   ]
  },
  {
   "cell_type": "code",
   "execution_count": 139,
   "id": "45b78f73-56c9-4710-82cd-85bc0e5c28c7",
   "metadata": {},
   "outputs": [
    {
     "data": {
      "text/plain": [
       "22"
      ]
     },
     "execution_count": 139,
     "metadata": {},
     "output_type": "execute_result"
    }
   ],
   "source": [
    "a-b"
   ]
  },
  {
   "cell_type": "code",
   "execution_count": 141,
   "id": "891be5f2-e66e-4503-85e0-2715a28b4d1b",
   "metadata": {},
   "outputs": [],
   "source": [
    "#multiplication"
   ]
  },
  {
   "cell_type": "code",
   "execution_count": 143,
   "id": "5999d18b-9738-446a-8553-e38b49404388",
   "metadata": {},
   "outputs": [],
   "source": [
    "a=5"
   ]
  },
  {
   "cell_type": "code",
   "execution_count": 145,
   "id": "3bb8ea06-da7c-40a7-bca7-fa931aaf243f",
   "metadata": {},
   "outputs": [],
   "source": [
    "b=6"
   ]
  },
  {
   "cell_type": "code",
   "execution_count": 175,
   "id": "275a9dba-1647-45fd-87ea-9a7644039e41",
   "metadata": {},
   "outputs": [
    {
     "data": {
      "text/plain": [
       "20"
      ]
     },
     "execution_count": 175,
     "metadata": {},
     "output_type": "execute_result"
    }
   ],
   "source": [
    "a*b"
   ]
  },
  {
   "cell_type": "code",
   "execution_count": 153,
   "id": "fedc72f3-ca2c-4b3d-bd22-26a1d2bbbf27",
   "metadata": {},
   "outputs": [],
   "source": [
    "#devision"
   ]
  },
  {
   "cell_type": "code",
   "execution_count": 155,
   "id": "47010247-48c6-4619-adc7-268298182ef3",
   "metadata": {},
   "outputs": [],
   "source": [
    "a=10\n",
    "b=2"
   ]
  },
  {
   "cell_type": "code",
   "execution_count": 157,
   "id": "440cd306-78c4-4a3a-8fe8-5a5aa5f60ac8",
   "metadata": {},
   "outputs": [
    {
     "data": {
      "text/plain": [
       "5.0"
      ]
     },
     "execution_count": 157,
     "metadata": {},
     "output_type": "execute_result"
    }
   ],
   "source": [
    "a/b"
   ]
  },
  {
   "cell_type": "code",
   "execution_count": 159,
   "id": "084901ec-02eb-4732-b812-06a3e554a1c5",
   "metadata": {},
   "outputs": [],
   "source": [
    "#floor division"
   ]
  },
  {
   "cell_type": "code",
   "execution_count": 161,
   "id": "752cd8fd-5675-4e20-bb4e-a8c32069bc88",
   "metadata": {},
   "outputs": [],
   "source": [
    "results = 16/3"
   ]
  },
  {
   "cell_type": "code",
   "execution_count": 163,
   "id": "e3f9a6f5-a69c-4d54-a67e-ef24f7a35c62",
   "metadata": {},
   "outputs": [
    {
     "data": {
      "text/plain": [
       "5.333333333333333"
      ]
     },
     "execution_count": 163,
     "metadata": {},
     "output_type": "execute_result"
    }
   ],
   "source": [
    "results"
   ]
  },
  {
   "cell_type": "code",
   "execution_count": 165,
   "id": "a23d0fa9-bb68-417b-b2ca-394d05139a34",
   "metadata": {},
   "outputs": [],
   "source": [
    "results=16//3"
   ]
  },
  {
   "cell_type": "code",
   "execution_count": 167,
   "id": "cb278264-bca1-4c52-9391-173d53a57c08",
   "metadata": {},
   "outputs": [
    {
     "data": {
      "text/plain": [
       "5"
      ]
     },
     "execution_count": 167,
     "metadata": {},
     "output_type": "execute_result"
    }
   ],
   "source": [
    "results"
   ]
  },
  {
   "cell_type": "code",
   "execution_count": 177,
   "id": "4ac1b6d5-280d-416a-a4b6-bd55ff9c8514",
   "metadata": {},
   "outputs": [],
   "source": [
    "#modulus"
   ]
  },
  {
   "cell_type": "code",
   "execution_count": 179,
   "id": "d50a6ef3-ce6a-413b-aa6e-e589f7b9ffe6",
   "metadata": {},
   "outputs": [],
   "source": [
    "results=10%3"
   ]
  },
  {
   "cell_type": "code",
   "execution_count": 181,
   "id": "9e607957-fa62-47dc-bbb2-5d44cba00051",
   "metadata": {},
   "outputs": [
    {
     "data": {
      "text/plain": [
       "1"
      ]
     },
     "execution_count": 181,
     "metadata": {},
     "output_type": "execute_result"
    }
   ],
   "source": [
    "results"
   ]
  },
  {
   "cell_type": "code",
   "execution_count": 183,
   "id": "26e68b9b-5b29-4796-bec6-042732b277eb",
   "metadata": {},
   "outputs": [
    {
     "data": {
      "text/plain": [
       "3.3333333333333335"
      ]
     },
     "execution_count": 183,
     "metadata": {},
     "output_type": "execute_result"
    }
   ],
   "source": [
    "10/3"
   ]
  },
  {
   "cell_type": "code",
   "execution_count": 185,
   "id": "1629ad3a-e1ed-4ca5-9f91-768d8474ccd1",
   "metadata": {},
   "outputs": [
    {
     "data": {
      "text/plain": [
       "5.0"
      ]
     },
     "execution_count": 185,
     "metadata": {},
     "output_type": "execute_result"
    }
   ],
   "source": [
    "15/3"
   ]
  },
  {
   "cell_type": "code",
   "execution_count": 189,
   "id": "68e1c3e5-f615-4c35-a7da-b5a8f2ac3d1d",
   "metadata": {},
   "outputs": [
    {
     "data": {
      "text/plain": [
       "0"
      ]
     },
     "execution_count": 189,
     "metadata": {},
     "output_type": "execute_result"
    }
   ],
   "source": [
    "15%3"
   ]
  },
  {
   "cell_type": "code",
   "execution_count": 191,
   "id": "cb507c04-96b2-4013-93cc-e3b169401bd6",
   "metadata": {},
   "outputs": [],
   "source": [
    "#exponentiation"
   ]
  },
  {
   "cell_type": "code",
   "execution_count": 193,
   "id": "f44b6028-03ee-4493-9f3e-5f225804f897",
   "metadata": {},
   "outputs": [],
   "source": [
    "results=2**3"
   ]
  },
  {
   "cell_type": "code",
   "execution_count": 195,
   "id": "7e274e47-b47e-4fea-8e43-357609e55120",
   "metadata": {},
   "outputs": [
    {
     "data": {
      "text/plain": [
       "8"
      ]
     },
     "execution_count": 195,
     "metadata": {},
     "output_type": "execute_result"
    }
   ],
   "source": [
    "results"
   ]
  },
  {
   "cell_type": "code",
   "execution_count": 197,
   "id": "6796c1dc-162f-4d64-8c34-1db46398847f",
   "metadata": {},
   "outputs": [
    {
     "data": {
      "text/plain": [
       "81"
      ]
     },
     "execution_count": 197,
     "metadata": {},
     "output_type": "execute_result"
    }
   ],
   "source": [
    "3**4"
   ]
  },
  {
   "cell_type": "code",
   "execution_count": 217,
   "id": "cf269802-8372-405f-ac14-4fa432c856ba",
   "metadata": {},
   "outputs": [],
   "source": [
    "#combining arithmetic operators"
   ]
  },
  {
   "cell_type": "code",
   "execution_count": 219,
   "id": "27f5a972-44b8-4a28-a66c-a6941e7a8364",
   "metadata": {},
   "outputs": [],
   "source": [
    "a=5+3*2-8/4"
   ]
  },
  {
   "cell_type": "code",
   "execution_count": 221,
   "id": "2f45c3d7-04e7-4267-81a4-fd543ef936c4",
   "metadata": {},
   "outputs": [
    {
     "data": {
      "text/plain": [
       "9.0"
      ]
     },
     "execution_count": 221,
     "metadata": {},
     "output_type": "execute_result"
    }
   ],
   "source": [
    "a"
   ]
  },
  {
   "cell_type": "code",
   "execution_count": 229,
   "id": "976a1592-72d6-4c6f-8a8c-6ac0062a5f7a",
   "metadata": {},
   "outputs": [],
   "source": [
    "b=15+2*9-2/1"
   ]
  },
  {
   "cell_type": "code",
   "execution_count": 231,
   "id": "6db3c3f5-1417-49f5-b967-2b9524fc75af",
   "metadata": {},
   "outputs": [
    {
     "data": {
      "text/plain": [
       "31.0"
      ]
     },
     "execution_count": 231,
     "metadata": {},
     "output_type": "execute_result"
    }
   ],
   "source": [
    "b"
   ]
  },
  {
   "cell_type": "code",
   "execution_count": 247,
   "id": "558b2ee0-8dcf-489e-ae54-0b2dae6c58eb",
   "metadata": {},
   "outputs": [],
   "source": [
    "scores=(85+90+78+92+88)/5\n"
   ]
  },
  {
   "cell_type": "code",
   "execution_count": 249,
   "id": "26ad9b0d-b970-4b70-8471-432e8e92551c",
   "metadata": {},
   "outputs": [
    {
     "data": {
      "text/plain": [
       "86.6"
      ]
     },
     "execution_count": 249,
     "metadata": {},
     "output_type": "execute_result"
    }
   ],
   "source": [
    "scores"
   ]
  },
  {
   "cell_type": "code",
   "execution_count": 251,
   "id": "473e14eb-8a93-4e99-92c9-aae6cb86841d",
   "metadata": {},
   "outputs": [],
   "source": [
    "scores=[56,78,76,67,90]"
   ]
  },
  {
   "cell_type": "code",
   "execution_count": 253,
   "id": "4b4a2e3c-e01d-4f32-9dfd-0788f9d723a6",
   "metadata": {},
   "outputs": [],
   "source": [
    "total_scores=sum(scores)"
   ]
  },
  {
   "cell_type": "code",
   "execution_count": 255,
   "id": "02606208-5c35-4b89-9089-231f59ea9e01",
   "metadata": {},
   "outputs": [
    {
     "data": {
      "text/plain": [
       "367"
      ]
     },
     "execution_count": 255,
     "metadata": {},
     "output_type": "execute_result"
    }
   ],
   "source": [
    "total_scores"
   ]
  },
  {
   "cell_type": "code",
   "execution_count": 257,
   "id": "9084b2f5-aeaa-48fd-ab23-a206d121e293",
   "metadata": {},
   "outputs": [
    {
     "data": {
      "text/plain": [
       "73.4"
      ]
     },
     "execution_count": 257,
     "metadata": {},
     "output_type": "execute_result"
    }
   ],
   "source": [
    "367/5"
   ]
  },
  {
   "cell_type": "code",
   "execution_count": 259,
   "id": "f480160e-8779-451e-8213-0941d80b7112",
   "metadata": {},
   "outputs": [
    {
     "data": {
      "text/plain": [
       "5"
      ]
     },
     "execution_count": 259,
     "metadata": {},
     "output_type": "execute_result"
    }
   ],
   "source": [
    "len(scores)"
   ]
  },
  {
   "cell_type": "code",
   "execution_count": 334,
   "id": "c23f5fdf-efd9-46c6-ad48-f59a8405a6ec",
   "metadata": {},
   "outputs": [],
   "source": [
    "budget=1200\n",
    "spend=350\n",
    "utensils=150\n",
    "transportation=200\n",
    "remaining_budget=budget-(spend+utensils+transportation)\n",
    "\n"
   ]
  },
  {
   "cell_type": "code",
   "execution_count": 336,
   "id": "22750950-2982-498c-b260-8de0bc14ca29",
   "metadata": {},
   "outputs": [
    {
     "name": "stdout",
     "output_type": "stream",
     "text": [
      "Remaining_budget: 500\n"
     ]
    }
   ],
   "source": [
    "print(\"Remaining_budget:\",remaining_budget)"
   ]
  },
  {
   "cell_type": "code",
   "execution_count": 285,
   "id": "778d260e-902e-4b73-9919-4f627c3f67bd",
   "metadata": {},
   "outputs": [],
   "source": [
    "book=23.75"
   ]
  },
  {
   "cell_type": "code",
   "execution_count": 287,
   "id": "e6379244-6dd0-4113-8099-bfbb6604406e",
   "metadata": {},
   "outputs": [],
   "source": [
    "pay=50"
   ]
  },
  {
   "cell_type": "code",
   "execution_count": 293,
   "id": "6d785940-859e-4e93-a3fa-c7b7709bfa71",
   "metadata": {},
   "outputs": [],
   "source": [
    "change=pay-book"
   ]
  },
  {
   "cell_type": "code",
   "execution_count": 295,
   "id": "59aae42e-4843-46ed-9726-fbfcdb0513fa",
   "metadata": {},
   "outputs": [
    {
     "data": {
      "text/plain": [
       "26.25"
      ]
     },
     "execution_count": 295,
     "metadata": {},
     "output_type": "execute_result"
    }
   ],
   "source": [
    "change"
   ]
  },
  {
   "cell_type": "code",
   "execution_count": 297,
   "id": "703cc098-a416-4d39-8201-81adc497a335",
   "metadata": {},
   "outputs": [],
   "source": [
    "rectangle=10"
   ]
  },
  {
   "cell_type": "code",
   "execution_count": 299,
   "id": "bc2b9b09-99de-45f6-8a93-47eab50f296f",
   "metadata": {},
   "outputs": [],
   "source": [
    "wide=15"
   ]
  },
  {
   "cell_type": "code",
   "execution_count": 301,
   "id": "32d510c3-5840-430a-a91c-ac391a7426e5",
   "metadata": {},
   "outputs": [],
   "source": [
    "area=rectangle*wide"
   ]
  },
  {
   "cell_type": "code",
   "execution_count": 303,
   "id": "328af76e-6453-463c-835e-6f3ae41fc080",
   "metadata": {},
   "outputs": [
    {
     "data": {
      "text/plain": [
       "150"
      ]
     },
     "execution_count": 303,
     "metadata": {},
     "output_type": "execute_result"
    }
   ],
   "source": [
    "area"
   ]
  },
  {
   "cell_type": "code",
   "execution_count": 305,
   "id": "3f662017-b583-431d-8d0b-23f1e2ff418a",
   "metadata": {},
   "outputs": [],
   "source": [
    "alice_age=25"
   ]
  },
  {
   "cell_type": "code",
   "execution_count": 307,
   "id": "ded43a71-b086-4c6b-9725-7cbcd3577951",
   "metadata": {},
   "outputs": [],
   "source": [
    "bob_age=30\n"
   ]
  },
  {
   "cell_type": "code",
   "execution_count": 314,
   "id": "45614cd1-d80b-4936-a036-3a256475c29f",
   "metadata": {},
   "outputs": [],
   "source": [
    "age_difference=(bob_age-alice_age)"
   ]
  },
  {
   "cell_type": "code",
   "execution_count": 316,
   "id": "4705da5b-3d35-4fc9-b423-b2aa78cf47f8",
   "metadata": {},
   "outputs": [
    {
     "data": {
      "text/plain": [
       "5"
      ]
     },
     "execution_count": 316,
     "metadata": {},
     "output_type": "execute_result"
    }
   ],
   "source": [
    "age_difference"
   ]
  },
  {
   "cell_type": "code",
   "execution_count": 318,
   "id": "00a15b62-72f3-4e65-a386-f4eb89d0cce5",
   "metadata": {},
   "outputs": [],
   "source": [
    "item=120"
   ]
  },
  {
   "cell_type": "code",
   "execution_count": 320,
   "id": "8b200eff-e06d-4501-b17e-162695aaa0ff",
   "metadata": {},
   "outputs": [],
   "source": [
    "sold=180"
   ]
  },
  {
   "cell_type": "code",
   "execution_count": 322,
   "id": "ac19f42f-d24f-43da-ba8b-e2cc8759e75c",
   "metadata": {},
   "outputs": [],
   "source": [
    "profit=sold-item"
   ]
  },
  {
   "cell_type": "code",
   "execution_count": 330,
   "id": "22caed54-79e4-491a-88a3-f46d9af695b3",
   "metadata": {},
   "outputs": [],
   "source": [
    "profit=profit*100/item"
   ]
  },
  {
   "cell_type": "code",
   "execution_count": 332,
   "id": "dfaa8bd1-9a1c-4d5d-aeb6-adeadec67273",
   "metadata": {},
   "outputs": [
    {
     "name": "stdout",
     "output_type": "stream",
     "text": [
      "profit= 50.0\n"
     ]
    }
   ],
   "source": [
    "print(\"profit=\",profit)"
   ]
  },
  {
   "cell_type": "code",
   "execution_count": 328,
   "id": "97e83025-9bdf-41da-8d89-1437716e6041",
   "metadata": {},
   "outputs": [],
   "source": [
    "#relational operators"
   ]
  },
  {
   "cell_type": "code",
   "execution_count": null,
   "id": "83e72d42-26b6-48e1-91a0-70292e6829a0",
   "metadata": {},
   "outputs": [],
   "source": []
  },
  {
   "cell_type": "code",
   "execution_count": null,
   "id": "a666e3c0-965b-47ac-965a-53e642ab959a",
   "metadata": {},
   "outputs": [],
   "source": []
  }
 ],
 "metadata": {
  "kernelspec": {
   "display_name": "Python [conda env:base] *",
   "language": "python",
   "name": "conda-base-py"
  },
  "language_info": {
   "codemirror_mode": {
    "name": "ipython",
    "version": 3
   },
   "file_extension": ".py",
   "mimetype": "text/x-python",
   "name": "python",
   "nbconvert_exporter": "python",
   "pygments_lexer": "ipython3",
   "version": "3.12.7"
  }
 },
 "nbformat": 4,
 "nbformat_minor": 5
}
