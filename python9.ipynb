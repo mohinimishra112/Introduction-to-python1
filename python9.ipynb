{
 "cells": [
  {
   "cell_type": "code",
   "execution_count": 3,
   "id": "648e665d-e2a3-46ce-aa4e-4be8aae3a466",
   "metadata": {},
   "outputs": [],
   "source": [
    "a = \"\"\n",
    "b= []\n",
    "c = ()\n",
    "d = {1,2,45,}   \n",
    "e = {1:25,}"
   ]
  },
  {
   "cell_type": "code",
   "execution_count": 5,
   "id": "3b0ebd6f-df3a-4793-9fe8-ba893455246f",
   "metadata": {},
   "outputs": [],
   "source": [
    "my_set = {1, 2, 3,3,3,3}"
   ]
  },
  {
   "cell_type": "code",
   "execution_count": 7,
   "id": "8e46d488-8103-4a74-aac5-641488c13c7b",
   "metadata": {},
   "outputs": [
    {
     "data": {
      "text/plain": [
       "{1, 2, 3}"
      ]
     },
     "execution_count": 7,
     "metadata": {},
     "output_type": "execute_result"
    }
   ],
   "source": [
    " my_set"
   ]
  },
  {
   "cell_type": "code",
   "execution_count": 9,
   "id": "f92ad9d9-721a-49bf-b71b-553a407a8014",
   "metadata": {},
   "outputs": [],
   "source": [
    "l = [1,1,1,1,2,2,2,45,5,6,5]"
   ]
  },
  {
   "cell_type": "code",
   "execution_count": 11,
   "id": "fbb1ebdd-3b75-420e-a495-5bf24a06c0b9",
   "metadata": {},
   "outputs": [
    {
     "data": {
      "text/plain": [
       "1"
      ]
     },
     "execution_count": 11,
     "metadata": {},
     "output_type": "execute_result"
    }
   ],
   "source": [
    "1"
   ]
  },
  {
   "cell_type": "code",
   "execution_count": 13,
   "id": "3c6f5a5e-d61e-4495-8d71-ac8064d56fef",
   "metadata": {},
   "outputs": [],
   "source": [
    "my_set = {1, 2, 2,2,2,2,2,2,2, 3, 4,4,4}"
   ]
  },
  {
   "cell_type": "code",
   "execution_count": 15,
   "id": "f9b195ea-c5d0-43a0-adfb-b21c69cbdfa1",
   "metadata": {},
   "outputs": [
    {
     "data": {
      "text/plain": [
       "{1, 2, 3, 4}"
      ]
     },
     "execution_count": 15,
     "metadata": {},
     "output_type": "execute_result"
    }
   ],
   "source": [
    "my_set"
   ]
  },
  {
   "cell_type": "code",
   "execution_count": 17,
   "id": "800b29de-8f88-46d0-be20-228ba71c7e3c",
   "metadata": {},
   "outputs": [],
   "source": [
    "my_set = {1, 2, 3}"
   ]
  },
  {
   "cell_type": "code",
   "execution_count": 20,
   "id": "26495458-760e-4604-946e-75c3e8f6033b",
   "metadata": {},
   "outputs": [],
   "source": [
    "\n",
    "my_set.add(8)\n"
   ]
  },
  {
   "cell_type": "code",
   "execution_count": 22,
   "id": "609fc261-31f4-4600-878e-b93cdb176c93",
   "metadata": {},
   "outputs": [
    {
     "data": {
      "text/plain": [
       "{1, 2, 3, 8}"
      ]
     },
     "execution_count": 22,
     "metadata": {},
     "output_type": "execute_result"
    }
   ],
   "source": [
    "my_set"
   ]
  },
  {
   "cell_type": "code",
   "execution_count": 24,
   "id": "035c1842-3283-4e31-8759-79ef6f34a555",
   "metadata": {},
   "outputs": [],
   "source": [
    "my_set.add(4) "
   ]
  },
  {
   "cell_type": "code",
   "execution_count": 26,
   "id": "1da7fbb0-3f00-495a-948a-6cb1a8ba0b69",
   "metadata": {},
   "outputs": [
    {
     "data": {
      "text/plain": [
       "{1, 2, 3, 4, 8}"
      ]
     },
     "execution_count": 26,
     "metadata": {},
     "output_type": "execute_result"
    }
   ],
   "source": [
    "my_set"
   ]
  },
  {
   "cell_type": "code",
   "execution_count": 28,
   "id": "e17dfbc3-e5cf-47eb-8ea5-6954b21689fc",
   "metadata": {},
   "outputs": [],
   "source": [
    "my_set.remove(1)"
   ]
  },
  {
   "cell_type": "code",
   "execution_count": 30,
   "id": "616911a1-ccea-4af5-a7bd-0def999c6ad1",
   "metadata": {},
   "outputs": [
    {
     "data": {
      "text/plain": [
       "{2, 3, 4, 8}"
      ]
     },
     "execution_count": 30,
     "metadata": {},
     "output_type": "execute_result"
    }
   ],
   "source": [
    "my_set"
   ]
  },
  {
   "cell_type": "code",
   "execution_count": 32,
   "id": "a4dc645d-d2af-46cd-8cb4-ef5e04d04c59",
   "metadata": {},
   "outputs": [],
   "source": [
    "my_set = {1, 2, 3}"
   ]
  },
  {
   "cell_type": "code",
   "execution_count": 34,
   "id": "5b285cc2-aa71-476d-993a-805d705a6227",
   "metadata": {},
   "outputs": [],
   "source": [
    "my_set.add(555)"
   ]
  },
  {
   "cell_type": "code",
   "execution_count": 36,
   "id": "240c5553-22b8-49e8-a234-bfd7a752d1cc",
   "metadata": {},
   "outputs": [
    {
     "data": {
      "text/plain": [
       "{1, 2, 3, 555}"
      ]
     },
     "execution_count": 36,
     "metadata": {},
     "output_type": "execute_result"
    }
   ],
   "source": [
    "my_set"
   ]
  },
  {
   "cell_type": "code",
   "execution_count": 38,
   "id": "da947748-c7b1-40c1-835b-955cb331e2aa",
   "metadata": {},
   "outputs": [],
   "source": [
    "my_set.add(1)"
   ]
  },
  {
   "cell_type": "code",
   "execution_count": 40,
   "id": "8759b2db-330f-4cfe-86d6-03028f698682",
   "metadata": {},
   "outputs": [
    {
     "name": "stdout",
     "output_type": "stream",
     "text": [
      "{1, 2, 3, 555}\n"
     ]
    }
   ],
   "source": [
    "print(my_set)"
   ]
  },
  {
   "cell_type": "code",
   "execution_count": 42,
   "id": "2bb90f18-8cf1-444d-8e98-c4686ba1d04d",
   "metadata": {},
   "outputs": [],
   "source": [
    "my_set = {1, 2, 3}"
   ]
  },
  {
   "cell_type": "code",
   "execution_count": 44,
   "id": "aceda78a-8168-4389-89cb-d7ca18059dc8",
   "metadata": {},
   "outputs": [],
   "source": [
    "my_set.update([20,55,88,99])"
   ]
  },
  {
   "cell_type": "code",
   "execution_count": 46,
   "id": "59e0c6c3-91ec-47bc-ae8c-17b04c47bcee",
   "metadata": {},
   "outputs": [],
   "source": [
    "my_set.update([4, 5])"
   ]
  },
  {
   "cell_type": "code",
   "execution_count": 48,
   "id": "47f67b20-a0c0-4936-8190-15cbb72cdb62",
   "metadata": {},
   "outputs": [
    {
     "data": {
      "text/plain": [
       "{1, 2, 3, 4, 5, 20, 55, 88, 99}"
      ]
     },
     "execution_count": 48,
     "metadata": {},
     "output_type": "execute_result"
    }
   ],
   "source": [
    "my_set"
   ]
  },
  {
   "cell_type": "code",
   "execution_count": 50,
   "id": "0604fdc0-64d9-463e-9a28-6da50868678e",
   "metadata": {},
   "outputs": [
    {
     "name": "stdout",
     "output_type": "stream",
     "text": [
      "{1, 2, 3, 99, 4, 5, 20, 55, 88}\n"
     ]
    }
   ],
   "source": [
    "print(my_set) "
   ]
  },
  {
   "cell_type": "code",
   "execution_count": 52,
   "id": "83c4ccff-211d-4899-a520-340d92894932",
   "metadata": {},
   "outputs": [],
   "source": [
    "my_set = {1, 2, 3}"
   ]
  },
  {
   "cell_type": "code",
   "execution_count": 54,
   "id": "2e02e934-426e-47cd-badb-e147671d62f3",
   "metadata": {},
   "outputs": [],
   "source": [
    "my_set.discard(20)"
   ]
  },
  {
   "cell_type": "code",
   "execution_count": 56,
   "id": "4ffffde3-c57e-4408-99f4-37629898662d",
   "metadata": {},
   "outputs": [
    {
     "data": {
      "text/plain": [
       "{1, 2, 3}"
      ]
     },
     "execution_count": 56,
     "metadata": {},
     "output_type": "execute_result"
    }
   ],
   "source": [
    "my_set"
   ]
  },
  {
   "cell_type": "code",
   "execution_count": 58,
   "id": "15afc642-6220-4aae-ae8d-4c602cebf925",
   "metadata": {},
   "outputs": [],
   "source": [
    "my_set.discard(10)  "
   ]
  },
  {
   "cell_type": "code",
   "execution_count": 60,
   "id": "3ac16b0f-0c6b-4d04-97b3-c4a01b13b351",
   "metadata": {},
   "outputs": [
    {
     "name": "stdout",
     "output_type": "stream",
     "text": [
      "{1, 2, 3}\n"
     ]
    }
   ],
   "source": [
    "my_set.discard(4)\n",
    "print(my_set)  "
   ]
  },
  {
   "cell_type": "code",
   "execution_count": 62,
   "id": "c362fe60-931e-4e03-a837-d05afb06660c",
   "metadata": {},
   "outputs": [],
   "source": [
    "my_set = {1, 2, 3}"
   ]
  },
  {
   "cell_type": "code",
   "execution_count": 64,
   "id": "49f8b073-18c9-42fb-9435-ff07db40ea34",
   "metadata": {},
   "outputs": [],
   "source": [
    "a = my_set.pop()"
   ]
  },
  {
   "cell_type": "code",
   "execution_count": 66,
   "id": "b59a791c-f7ea-4849-a131-76e333999b04",
   "metadata": {},
   "outputs": [
    {
     "data": {
      "text/plain": [
       "1"
      ]
     },
     "execution_count": 66,
     "metadata": {},
     "output_type": "execute_result"
    }
   ],
   "source": [
    "a\n"
   ]
  },
  {
   "cell_type": "code",
   "execution_count": 68,
   "id": "ac12b92d-542c-4e60-bdb5-a5d847ee206f",
   "metadata": {},
   "outputs": [
    {
     "data": {
      "text/plain": [
       "{2, 3}"
      ]
     },
     "execution_count": 68,
     "metadata": {},
     "output_type": "execute_result"
    }
   ],
   "source": [
    "my_set"
   ]
  },
  {
   "cell_type": "code",
   "execution_count": 70,
   "id": "7dc1475c-1d74-4e34-9c50-d3d8daa419e4",
   "metadata": {},
   "outputs": [
    {
     "data": {
      "text/plain": [
       "2"
      ]
     },
     "execution_count": 70,
     "metadata": {},
     "output_type": "execute_result"
    }
   ],
   "source": [
    "element = my_set.pop()\n",
    "element"
   ]
  },
  {
   "cell_type": "code",
   "execution_count": 72,
   "id": "cff7bfd7-25d0-407a-a16a-4077b5cb9a7e",
   "metadata": {},
   "outputs": [],
   "source": [
    "set1 = {1, 2, 3}\n",
    "set2 = {3, 4, 5}"
   ]
  },
  {
   "cell_type": "code",
   "execution_count": 74,
   "id": "d5526f66-3f7c-493e-92a1-00a6986e9c8c",
   "metadata": {},
   "outputs": [
    {
     "data": {
      "text/plain": [
       "{1, 2, 3, 4, 5}"
      ]
     },
     "execution_count": 74,
     "metadata": {},
     "output_type": "execute_result"
    }
   ],
   "source": [
    "set1.union(set2)"
   ]
  },
  {
   "cell_type": "code",
   "execution_count": 76,
   "id": "8a16eb5d-19ea-4c3f-8409-ab59ddf60b99",
   "metadata": {},
   "outputs": [
    {
     "data": {
      "text/plain": [
       "{1, 2, 3, 4, 5}"
      ]
     },
     "execution_count": 76,
     "metadata": {},
     "output_type": "execute_result"
    }
   ],
   "source": [
    "set1.union(set2)"
   ]
  },
  {
   "cell_type": "code",
   "execution_count": 78,
   "id": "9cf4f11c-df86-41f6-84ec-cca188dffb27",
   "metadata": {},
   "outputs": [
    {
     "data": {
      "text/plain": [
       "10"
      ]
     },
     "execution_count": 78,
     "metadata": {},
     "output_type": "execute_result"
    }
   ],
   "source": [
    "my_set = {1, 2, 3, 4}\n",
    "sum(my_set)  \n"
   ]
  },
  {
   "cell_type": "code",
   "execution_count": 80,
   "id": "d8e226d1-e3f9-416b-a2ff-b7fdb198c923",
   "metadata": {},
   "outputs": [],
   "source": [
    "a = (20,58,45,68)"
   ]
  },
  {
   "cell_type": "code",
   "execution_count": 82,
   "id": "d6796d90-6e7e-4446-8150-89f0bc517272",
   "metadata": {},
   "outputs": [
    {
     "data": {
      "text/plain": [
       "[20, 45, 58, 68]"
      ]
     },
     "execution_count": 82,
     "metadata": {},
     "output_type": "execute_result"
    }
   ],
   "source": [
    "sorted(a)"
   ]
  },
  {
   "cell_type": "code",
   "execution_count": 84,
   "id": "e26166e0-7625-4192-ab8f-a0accd122251",
   "metadata": {},
   "outputs": [
    {
     "data": {
      "text/plain": [
       "[1, 2, 3, 4]"
      ]
     },
     "execution_count": 84,
     "metadata": {},
     "output_type": "execute_result"
    }
   ],
   "source": [
    "my_set = {3, 1, 4, 2}\n",
    "a = sorted(my_set)  \n",
    "a"
   ]
  },
  {
   "cell_type": "code",
   "execution_count": 86,
   "id": "28f0e396-b613-4c2b-a7da-d35e4ab73f95",
   "metadata": {},
   "outputs": [
    {
     "data": {
      "text/plain": [
       "list"
      ]
     },
     "execution_count": 86,
     "metadata": {},
     "output_type": "execute_result"
    }
   ],
   "source": [
    "type(a)"
   ]
  },
  {
   "cell_type": "code",
   "execution_count": 88,
   "id": "d44f32e1-5706-46e9-a455-0b5b1c0197a5",
   "metadata": {},
   "outputs": [
    {
     "name": "stdout",
     "output_type": "stream",
     "text": [
      "True\n"
     ]
    }
   ],
   "source": [
    "my_set = {0, False, None,50}\n",
    "print(any(my_set))  # Output: True\n"
   ]
  },
  {
   "cell_type": "code",
   "execution_count": 90,
   "id": "e28040dd-ed6c-4ae4-a2bd-acd4f7510b72",
   "metadata": {},
   "outputs": [
    {
     "name": "stdout",
     "output_type": "stream",
     "text": [
      "True\n"
     ]
    }
   ],
   "source": [
    "my_set = {1, 2, 3}\n",
    "print(all(my_set))  # Output: True\n"
   ]
  },
  {
   "cell_type": "code",
   "execution_count": 92,
   "id": "0372e9d9-19c7-4e47-95eb-b9e164dbbed1",
   "metadata": {},
   "outputs": [
    {
     "data": {
      "text/plain": [
       "[1, 2, 3, 4]"
      ]
     },
     "execution_count": 92,
     "metadata": {},
     "output_type": "execute_result"
    }
   ],
   "source": [
    "my_set = {3, 1, 4, 2}\n",
    "sorted(my_set)"
   ]
  },
  {
   "cell_type": "code",
   "execution_count": 94,
   "id": "9a59db14-68e8-4b57-ad83-763b6b21ea59",
   "metadata": {},
   "outputs": [
    {
     "name": "stdout",
     "output_type": "stream",
     "text": [
      "0 1\n",
      "1 2\n",
      "2 3\n",
      "3 4\n"
     ]
    }
   ],
   "source": [
    "my_set = {3, 1, 4, 2}\n",
    "for index, value in enumerate(sorted(my_set)):\n",
    "    print(index, value)\n",
    "\n"
   ]
  },
  {
   "cell_type": "code",
   "execution_count": 98,
   "id": "fa997259-6e5c-4b77-a710-25e035f48253",
   "metadata": {},
   "outputs": [],
   "source": [
    "a = [1,2,3,5,40,60,88,79]"
   ]
  },
  {
   "cell_type": "code",
   "execution_count": 101,
   "id": "bab75acd-46a9-4389-87af-b4d827c285a8",
   "metadata": {},
   "outputs": [
    {
     "name": "stdout",
     "output_type": "stream",
     "text": [
      "0 1\n",
      "1 2\n",
      "2 3\n",
      "3 5\n",
      "4 40\n",
      "5 60\n",
      "6 88\n",
      "7 79\n"
     ]
    }
   ],
   "source": [
    "for index, value in enumerate(a):\n",
    "    print(index, value)"
   ]
  },
  {
   "cell_type": "code",
   "execution_count": 103,
   "id": "fcbcaa10-afe6-48ff-852c-0b52f505b925",
   "metadata": {},
   "outputs": [
    {
     "name": "stdout",
     "output_type": "stream",
     "text": [
      "0 1\n",
      "1 2\n",
      "2 3\n",
      "3 5\n",
      "4 40\n",
      "5 60\n",
      "6 88\n",
      "7 79\n"
     ]
    }
   ],
   "source": [
    "for i,j in enumerate(a):\n",
    "    print(i,j)"
   ]
  },
  {
   "cell_type": "code",
   "execution_count": 105,
   "id": "c934441b-7843-4098-b723-7db681e08b87",
   "metadata": {},
   "outputs": [],
   "source": [
    "my_list = [1, 2, 2, 3, 3, 4]"
   ]
  },
  {
   "cell_type": "code",
   "execution_count": 107,
   "id": "b6691f21-1435-4038-ab76-762df432ab7c",
   "metadata": {},
   "outputs": [
    {
     "name": "stdout",
     "output_type": "stream",
     "text": [
      "{1, 2, 3, 4}\n"
     ]
    }
   ],
   "source": [
    "my_set = set(my_list)\n",
    "print(my_set)  "
   ]
  },
  {
   "cell_type": "code",
   "execution_count": 109,
   "id": "83e4ad87-6b10-4823-94d1-8ecad2653d3a",
   "metadata": {},
   "outputs": [
    {
     "name": "stdout",
     "output_type": "stream",
     "text": [
      "{1, 2, 3, 4}\n"
     ]
    }
   ],
   "source": [
    "my_set = set(my_list)\n",
    "print(my_set)"
   ]
  },
  {
   "cell_type": "code",
   "execution_count": 111,
   "id": "b2e50b61-bc12-4506-b82a-1086ffb248bf",
   "metadata": {},
   "outputs": [
    {
     "name": "stdout",
     "output_type": "stream",
     "text": [
      "{'hello', 1, (1, 2, 3), 4.5}\n"
     ]
    }
   ],
   "source": [
    "\n",
    "s3 = {1,'hello',4.5,(1,2,3)}\n",
    "print(s3)\n"
   ]
  },
  {
   "cell_type": "code",
   "execution_count": 113,
   "id": "c87be362-07a1-4678-ac76-b3f93e1d42b0",
   "metadata": {},
   "outputs": [
    {
     "name": "stdout",
     "output_type": "stream",
     "text": [
      "{1, 2, 3}\n"
     ]
    }
   ],
   "source": [
    "\n",
    "\n",
    "s4 = set([1,2,3])\n",
    "print(s4)\n"
   ]
  },
  {
   "cell_type": "code",
   "execution_count": 115,
   "id": "1cd49d91-a727-46c5-8559-9a4a506e1590",
   "metadata": {},
   "outputs": [
    {
     "data": {
      "text/plain": [
       "{1, 2, 3, 4, 5, 6, 7, 8}"
      ]
     },
     "execution_count": 115,
     "metadata": {},
     "output_type": "execute_result"
    }
   ],
   "source": [
    "\n",
    "s11 = {1,2,3,4,5}\n",
    "s21 = {4,5,6,7,8}\n",
    "s11 | s21\n",
    "\n"
   ]
  },
  {
   "cell_type": "code",
   "execution_count": 117,
   "id": "d152e3c1-1e93-4f0a-b574-1f4bb84ab637",
   "metadata": {},
   "outputs": [
    {
     "data": {
      "text/plain": [
       "{4, 5}"
      ]
     },
     "execution_count": 117,
     "metadata": {},
     "output_type": "execute_result"
    }
   ],
   "source": [
    "s11 & s21\n"
   ]
  },
  {
   "cell_type": "code",
   "execution_count": null,
   "id": "4860f876-32f1-408f-83a0-30ed1100802d",
   "metadata": {},
   "outputs": [],
   "source": []
  }
 ],
 "metadata": {
  "kernelspec": {
   "display_name": "Python [conda env:base] *",
   "language": "python",
   "name": "conda-base-py"
  },
  "language_info": {
   "codemirror_mode": {
    "name": "ipython",
    "version": 3
   },
   "file_extension": ".py",
   "mimetype": "text/x-python",
   "name": "python",
   "nbconvert_exporter": "python",
   "pygments_lexer": "ipython3",
   "version": "3.12.7"
  }
 },
 "nbformat": 4,
 "nbformat_minor": 5
}
