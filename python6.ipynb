{
 "cells": [
  {
   "cell_type": "code",
   "execution_count": 3,
   "id": "3a5fb59f-1de2-45a9-822c-8a7884f246bc",
   "metadata": {},
   "outputs": [],
   "source": [
    "mutable_list = [1, 2, 3]\n",
    "\n"
   ]
  },
  {
   "cell_type": "code",
   "execution_count": 5,
   "id": "9b4b5902-44fc-40d0-b168-df043367ce0b",
   "metadata": {},
   "outputs": [
    {
     "data": {
      "text/plain": [
       "2"
      ]
     },
     "execution_count": 5,
     "metadata": {},
     "output_type": "execute_result"
    }
   ],
   "source": [
    "mutable_list[1]"
   ]
  },
  {
   "cell_type": "code",
   "execution_count": 7,
   "id": "9f64f6b0-0eb2-4d51-96e9-0d759ed71437",
   "metadata": {},
   "outputs": [],
   "source": [
    "mutable_list[1] = 30"
   ]
  },
  {
   "cell_type": "markdown",
   "id": "2b0053f4-87d9-4a12-87a6-bd50ac3996ea",
   "metadata": {},
   "source": []
  },
  {
   "cell_type": "code",
   "execution_count": 10,
   "id": "30c2eab7-5b96-48b7-bb3d-8cf3e650806c",
   "metadata": {},
   "outputs": [
    {
     "data": {
      "text/plain": [
       "[1, 30, 3]"
      ]
     },
     "execution_count": 10,
     "metadata": {},
     "output_type": "execute_result"
    }
   ],
   "source": [
    "mutable_list"
   ]
  },
  {
   "cell_type": "code",
   "execution_count": 14,
   "id": "7c0c6e47-7ec6-4b81-8c4b-c3389247a85a",
   "metadata": {},
   "outputs": [],
   "source": [
    "heterogeneous_list = [42, \"hello\", 3.14, [1, 2, 3]]"
   ]
  },
  {
   "cell_type": "code",
   "execution_count": 16,
   "id": "126cd651-535a-47d7-9f04-ee1c0c586b56",
   "metadata": {},
   "outputs": [
    {
     "data": {
      "text/plain": [
       "[42, 'hello', 3.14, [1, 2, 3]]"
      ]
     },
     "execution_count": 16,
     "metadata": {},
     "output_type": "execute_result"
    }
   ],
   "source": [
    "heterogeneous_list"
   ]
  },
  {
   "cell_type": "code",
   "execution_count": 18,
   "id": "e42f82a5-ada4-4dbb-bfef-d9efa4ef001e",
   "metadata": {},
   "outputs": [
    {
     "data": {
      "text/plain": [
       "2"
      ]
     },
     "execution_count": 18,
     "metadata": {},
     "output_type": "execute_result"
    }
   ],
   "source": [
    "heterogeneous_list[3][1]"
   ]
  },
  {
   "cell_type": "code",
   "execution_count": 32,
   "id": "d4e4257b-4654-4141-a603-6aef354cae2f",
   "metadata": {},
   "outputs": [],
   "source": [
    "fruits = [\"apple\" \"banana\", \"cherry\", \"date\", \"elderberry\"]"
   ]
  },
  {
   "cell_type": "raw",
   "id": "4e279917-39b2-4920-b471-3d7aea76945f",
   "metadata": {},
   "source": [
    "\n",
    "\n"
   ]
  },
  {
   "cell_type": "code",
   "execution_count": 35,
   "id": "bda1cc0a-e3f9-41e5-b446-1c7833477aa3",
   "metadata": {},
   "outputs": [
    {
     "name": "stdout",
     "output_type": "stream",
     "text": [
      "applebanana\n",
      "date\n"
     ]
    }
   ],
   "source": [
    "print(fruits[0])\n",
    "print(fruits[2])\n",
    "\n"
   ]
  },
  {
   "cell_type": "code",
   "execution_count": 37,
   "id": "e6b032c7-e345-4c44-b57f-6735acd09f08",
   "metadata": {},
   "outputs": [
    {
     "name": "stdout",
     "output_type": "stream",
     "text": [
      "elderberry\n",
      "cherry\n"
     ]
    }
   ],
   "source": [
    "print(fruits[-1])\n",
    "print(fruits[-3])\n"
   ]
  },
  {
   "cell_type": "code",
   "execution_count": 39,
   "id": "0adf85a2-74be-4e2c-b5e1-af586cf6ea0d",
   "metadata": {},
   "outputs": [
    {
     "data": {
      "text/plain": [
       "[10, 20, 30, 40, 50, 60, 70, 80, 90, 100]"
      ]
     },
     "execution_count": 39,
     "metadata": {},
     "output_type": "execute_result"
    }
   ],
   "source": [
    "numbers = [10, 20, 30, 40, 50, 60, 70, 80, 90, 100]\n",
    "numbers"
   ]
  },
  {
   "cell_type": "code",
   "execution_count": 47,
   "id": "efbb9fb3-3ac0-4117-9304-f07207bf2b28",
   "metadata": {},
   "outputs": [
    {
     "data": {
      "text/plain": [
       "[30, 40, 50]"
      ]
     },
     "execution_count": 47,
     "metadata": {},
     "output_type": "execute_result"
    }
   ],
   "source": [
    "numbers[2:5]"
   ]
  },
  {
   "cell_type": "code",
   "execution_count": 49,
   "id": "d7e528a4-b11a-4756-8b6b-cd75475b5ef5",
   "metadata": {},
   "outputs": [
    {
     "data": {
      "text/plain": [
       "[20, 50, 80]"
      ]
     },
     "execution_count": 49,
     "metadata": {},
     "output_type": "execute_result"
    }
   ],
   "source": [
    "numbers[1:8:3]"
   ]
  },
  {
   "cell_type": "code",
   "execution_count": 51,
   "id": "880ce031-3f45-4beb-b891-cf78e1ae9d29",
   "metadata": {},
   "outputs": [
    {
     "data": {
      "text/plain": [
       "[40, 50, 60, 70, 80, 90, 100]"
      ]
     },
     "execution_count": 51,
     "metadata": {},
     "output_type": "execute_result"
    }
   ],
   "source": [
    "numbers[3:]"
   ]
  },
  {
   "cell_type": "code",
   "execution_count": 53,
   "id": "7ea52106-4474-48c7-976e-6abe1f4e075d",
   "metadata": {},
   "outputs": [
    {
     "data": {
      "text/plain": [
       "[10, 20, 30, 40]"
      ]
     },
     "execution_count": 53,
     "metadata": {},
     "output_type": "execute_result"
    }
   ],
   "source": [
    "numbers[:4]"
   ]
  },
  {
   "cell_type": "code",
   "execution_count": 55,
   "id": "7ccbb365-fd17-4529-ac3e-97f33986db1d",
   "metadata": {},
   "outputs": [
    {
     "data": {
      "text/plain": [
       "[10, 20, 30, 40, 50, 60, 70, 80, 90, 100]"
      ]
     },
     "execution_count": 55,
     "metadata": {},
     "output_type": "execute_result"
    }
   ],
   "source": [
    "numbers[:]"
   ]
  },
  {
   "cell_type": "code",
   "execution_count": 59,
   "id": "5d47be2a-57b1-4fa0-9e41-3d0cbf02b30f",
   "metadata": {},
   "outputs": [
    {
     "data": {
      "text/plain": [
       "[30]"
      ]
     },
     "execution_count": 59,
     "metadata": {},
     "output_type": "execute_result"
    }
   ],
   "source": [
    "numbers[2:5:4]"
   ]
  },
  {
   "cell_type": "code",
   "execution_count": 61,
   "id": "597f7c41-996f-4fcc-9f30-3a79a14032f2",
   "metadata": {},
   "outputs": [],
   "source": [
    "numbers[1:5] = [1,2,3,4,5]"
   ]
  },
  {
   "cell_type": "code",
   "execution_count": 63,
   "id": "3c9e1937-e967-44a3-9fb2-fad8126a4022",
   "metadata": {},
   "outputs": [
    {
     "data": {
      "text/plain": [
       "[10, 1, 2, 3, 4, 5, 60, 70, 80, 90, 100]"
      ]
     },
     "execution_count": 63,
     "metadata": {},
     "output_type": "execute_result"
    }
   ],
   "source": [
    "numbers"
   ]
  },
  {
   "cell_type": "code",
   "execution_count": 69,
   "id": "da12ca10-5b54-4f2d-8922-9a4dbe0ada87",
   "metadata": {},
   "outputs": [],
   "source": [
    "animals = [\"cat\", \"dog\", \"elephant\"]\n"
   ]
  },
  {
   "cell_type": "code",
   "execution_count": 73,
   "id": "300d6acb-cc8c-4754-8276-cce2fc361b42",
   "metadata": {},
   "outputs": [],
   "source": [
    "animals[1:2] = [\"hamster\", \"rabbit\"]"
   ]
  },
  {
   "cell_type": "code",
   "execution_count": 75,
   "id": "a97a1e50-8b79-42a5-8aff-bfd1ebbffae4",
   "metadata": {},
   "outputs": [
    {
     "data": {
      "text/plain": [
       "['cat', 'hamster', 'rabbit', 'elephant']"
      ]
     },
     "execution_count": 75,
     "metadata": {},
     "output_type": "execute_result"
    }
   ],
   "source": [
    "animals"
   ]
  },
  {
   "cell_type": "code",
   "execution_count": 82,
   "id": "f218d728-709c-4889-985e-05c00660a0e1",
   "metadata": {},
   "outputs": [],
   "source": [
    "language = [\"Pythin\", \"Java\", \"C++\"]\n",
    "          "
   ]
  },
  {
   "cell_type": "code",
   "execution_count": 84,
   "id": "3c163ee7-c96f-4812-9add-b31453b2f775",
   "metadata": {},
   "outputs": [],
   "source": [
    "language.insert(1, \"javascript\")"
   ]
  },
  {
   "cell_type": "code",
   "execution_count": 88,
   "id": "7f350f73-04d6-4e1a-8e88-d15b7d098655",
   "metadata": {},
   "outputs": [
    {
     "name": "stdout",
     "output_type": "stream",
     "text": [
      "['Pythin', 'javascript', 'Java', 'C++']\n"
     ]
    }
   ],
   "source": [
    "print(language)"
   ]
  },
  {
   "cell_type": "markdown",
   "id": "dab40a13-f218-4379-a2d2-b7a00643340b",
   "metadata": {},
   "source": []
  },
  {
   "cell_type": "code",
   "execution_count": 97,
   "id": "319f17d3-d75b-48d6-b2bc-5ee36f54f4f9",
   "metadata": {},
   "outputs": [],
   "source": [
    "list1 = [1, 2, 3]\n",
    "list2 = [4, 5, 6]"
   ]
  },
  {
   "cell_type": "code",
   "execution_count": 99,
   "id": "7d366196-b6fc-42d8-ab62-ad2329bd6b9d",
   "metadata": {},
   "outputs": [],
   "source": [
    "result = list1 + list2"
   ]
  },
  {
   "cell_type": "code",
   "execution_count": 101,
   "id": "f81ab48b-0e93-48cb-b56a-2728b09cd302",
   "metadata": {},
   "outputs": [
    {
     "data": {
      "text/plain": [
       "[1, 2, 3, 4, 5, 6]"
      ]
     },
     "execution_count": 101,
     "metadata": {},
     "output_type": "execute_result"
    }
   ],
   "source": [
    "result"
   ]
  },
  {
   "cell_type": "code",
   "execution_count": 103,
   "id": "86d5db39-e13d-403d-a35e-8818e79d016d",
   "metadata": {},
   "outputs": [],
   "source": [
    "list1 = [1, 2, 3]"
   ]
  },
  {
   "cell_type": "code",
   "execution_count": 105,
   "id": "3b665eaf-e682-4916-ad11-6b1d5910df4a",
   "metadata": {},
   "outputs": [],
   "source": [
    "result = list1 * 4"
   ]
  },
  {
   "cell_type": "code",
   "execution_count": 107,
   "id": "25c4cac2-cbce-4f2f-9ae3-97194f62174d",
   "metadata": {},
   "outputs": [
    {
     "data": {
      "text/plain": [
       "[1, 2, 3, 1, 2, 3, 1, 2, 3, 1, 2, 3]"
      ]
     },
     "execution_count": 107,
     "metadata": {},
     "output_type": "execute_result"
    }
   ],
   "source": [
    "result"
   ]
  },
  {
   "cell_type": "code",
   "execution_count": 109,
   "id": "1c6b7cff-4dc7-4399-9d03-ef4930996ad5",
   "metadata": {},
   "outputs": [],
   "source": [
    "my_list = ['apple', 'banana', 'cherry']"
   ]
  },
  {
   "cell_type": "code",
   "execution_count": 111,
   "id": "f7330b18-8e9b-4f81-99ad-2809457ed367",
   "metadata": {},
   "outputs": [
    {
     "data": {
      "text/plain": [
       "True"
      ]
     },
     "execution_count": 111,
     "metadata": {},
     "output_type": "execute_result"
    }
   ],
   "source": [
    "'banana' in my_list"
   ]
  },
  {
   "cell_type": "code",
   "execution_count": 113,
   "id": "5b865170-2c72-40f1-a4d0-e781f023cbe8",
   "metadata": {},
   "outputs": [],
   "source": [
    "my_list = ['apple', 'banana', 'cherry']"
   ]
  },
  {
   "cell_type": "code",
   "execution_count": 117,
   "id": "26c56dda-9112-4adc-9a49-b3305f3f40ce",
   "metadata": {},
   "outputs": [
    {
     "data": {
      "text/plain": [
       "True"
      ]
     },
     "execution_count": 117,
     "metadata": {},
     "output_type": "execute_result"
    }
   ],
   "source": [
    "'orange' not in my_list"
   ]
  },
  {
   "cell_type": "code",
   "execution_count": 119,
   "id": "98aa395e-d9b1-47bd-b074-4518fff3f570",
   "metadata": {},
   "outputs": [],
   "source": [
    "my_list = ['apple', 'banana', 'cherry']"
   ]
  },
  {
   "cell_type": "code",
   "execution_count": 121,
   "id": "9dd97b36-4356-4c49-8ba3-fc2af2183b95",
   "metadata": {},
   "outputs": [
    {
     "name": "stdout",
     "output_type": "stream",
     "text": [
      "apple\n",
      "banana\n",
      "cherry\n"
     ]
    }
   ],
   "source": [
    "for fruit in my_list:\n",
    "    print(fruit)"
   ]
  },
  {
   "cell_type": "code",
   "execution_count": 123,
   "id": "8687b7db-d4c8-41cc-91de-f6546b5953c8",
   "metadata": {},
   "outputs": [
    {
     "name": "stdout",
     "output_type": "stream",
     "text": [
      "c\n",
      "h\n",
      "e\n",
      "r\n"
     ]
    }
   ],
   "source": [
    "my_list = ['apple', 'banana', 'cherry']\n",
    "i = 0\n",
    "while i < len(fruits):\n",
    "    print(fruit[i])\n",
    "    i += 1"
   ]
  },
  {
   "cell_type": "code",
   "execution_count": 127,
   "id": "face7215-be8b-4514-8c55-31da95b86662",
   "metadata": {},
   "outputs": [
    {
     "name": "stdout",
     "output_type": "stream",
     "text": [
      "c\n",
      "h\n",
      "e\n",
      "r\n"
     ]
    }
   ],
   "source": [
    "my_list = [\"apple\", \"banana\", \"cherry\" \"date\"]\n",
    "i = 0\n",
    "while i < len(fruits):\n",
    "    print(fruit[i])\n",
    "    i += 1"
   ]
  },
  {
   "cell_type": "code",
   "execution_count": 133,
   "id": "35919014-2b46-4cd3-80c5-b9d15494c27b",
   "metadata": {},
   "outputs": [
    {
     "name": "stdout",
     "output_type": "stream",
     "text": [
      "1 2 3 \n",
      "4 5 6 \n",
      "7 8 9 \n"
     ]
    }
   ],
   "source": [
    "matrix = [\n",
    "    [1, 2, 3],\n",
    "    [4, 5, 6],\n",
    "    [7, 8, 9]\n",
    "]\n",
    "for row in matrix:\n",
    "    for element in row:\n",
    "        print(element, end=\" \")\n",
    "    print()    "
   ]
  },
  {
   "cell_type": "code",
   "execution_count": null,
   "id": "3b4516fe-0b9e-444d-97c1-e7ff9e09c418",
   "metadata": {},
   "outputs": [],
   "source": []
  }
 ],
 "metadata": {
  "kernelspec": {
   "display_name": "Python [conda env:base] *",
   "language": "python",
   "name": "conda-base-py"
  },
  "language_info": {
   "codemirror_mode": {
    "name": "ipython",
    "version": 3
   },
   "file_extension": ".py",
   "mimetype": "text/x-python",
   "name": "python",
   "nbconvert_exporter": "python",
   "pygments_lexer": "ipython3",
   "version": "3.12.7"
  }
 },
 "nbformat": 4,
 "nbformat_minor": 5
}
