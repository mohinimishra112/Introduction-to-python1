{
 "cells": [
  {
   "cell_type": "code",
   "execution_count": 3,
   "id": "1707a90d-f4d2-43a3-9059-6db6e295bebc",
   "metadata": {},
   "outputs": [
    {
     "name": "stdout",
     "output_type": "stream",
     "text": [
      "hello world\n"
     ]
    }
   ],
   "source": [
    "print(\"hello world\")"
   ]
  },
  {
   "cell_type": "code",
   "execution_count": 5,
   "id": "fbd14a67-0fb8-4fbf-a018-5b7a05c074c1",
   "metadata": {},
   "outputs": [
    {
     "name": "stdout",
     "output_type": "stream",
     "text": [
      "10 15\n"
     ]
    }
   ],
   "source": [
    "A=10\n",
    "a=15\n",
    "print(A,a)"
   ]
  },
  {
   "cell_type": "markdown",
   "id": "880dba6c-49c5-4d92-8b51-033de1ab3a26",
   "metadata": {},
   "source": [
    "first session"
   ]
  },
  {
   "cell_type": "code",
   "execution_count": 8,
   "id": "49acb89f-d6cc-46d4-a07e-79b67c15bcf7",
   "metadata": {},
   "outputs": [
    {
     "name": "stdout",
     "output_type": "stream",
     "text": [
      "vini\n"
     ]
    }
   ],
   "source": [
    "print('vini')"
   ]
  },
  {
   "cell_type": "code",
   "execution_count": 10,
   "id": "1c4d099a-58a7-4bd5-be36-689f5a600f24",
   "metadata": {},
   "outputs": [
    {
     "name": "stdout",
     "output_type": "stream",
     "text": [
      "7\n"
     ]
    }
   ],
   "source": [
    "print(7)"
   ]
  },
  {
   "cell_type": "code",
   "execution_count": 12,
   "id": "7e5bcf4c-b857-4847-b554-83a8aec3acf7",
   "metadata": {},
   "outputs": [
    {
     "name": "stdout",
     "output_type": "stream",
     "text": [
      "-56.0\n"
     ]
    }
   ],
   "source": [
    "print(-56.0)"
   ]
  },
  {
   "cell_type": "code",
   "execution_count": 20,
   "id": "f5179561-e475-4b60-a74d-c895260f6979",
   "metadata": {},
   "outputs": [
    {
     "name": "stdout",
     "output_type": "stream",
     "text": [
      "hello_world\n"
     ]
    }
   ],
   "source": [
    "print('hello',end='_')\n",
    "print('world')"
   ]
  },
  {
   "cell_type": "code",
   "execution_count": 22,
   "id": "a776613e-8285-4873-8dbd-f21bdcc806ec",
   "metadata": {},
   "outputs": [
    {
     "data": {
      "text/plain": [
       "float"
      ]
     },
     "execution_count": 22,
     "metadata": {},
     "output_type": "execute_result"
    }
   ],
   "source": [
    "a=56.8\n",
    "type(a)"
   ]
  },
  {
   "cell_type": "code",
   "execution_count": 24,
   "id": "8847ce29-c0ca-47a6-be34-d9d7390076af",
   "metadata": {},
   "outputs": [
    {
     "data": {
      "text/plain": [
       "complex"
      ]
     },
     "execution_count": 24,
     "metadata": {},
     "output_type": "execute_result"
    }
   ],
   "source": [
    "z=(4+5j)\n",
    "type(z)"
   ]
  },
  {
   "cell_type": "code",
   "execution_count": 28,
   "id": "a53d9ee1-7497-46b0-a6a9-56708b6e42d2",
   "metadata": {},
   "outputs": [
    {
     "data": {
      "text/plain": [
       "list"
      ]
     },
     "execution_count": 28,
     "metadata": {},
     "output_type": "execute_result"
    }
   ],
   "source": [
    "lis=[1,3,8,'banana']\n",
    "type(lis)"
   ]
  },
  {
   "cell_type": "code",
   "execution_count": 30,
   "id": "c7b8cdc8-cfb4-4d80-b8d0-1357ca25749d",
   "metadata": {},
   "outputs": [
    {
     "data": {
      "text/plain": [
       "tuple"
      ]
     },
     "execution_count": 30,
     "metadata": {},
     "output_type": "execute_result"
    }
   ],
   "source": [
    "a=(1,4,5,2,8)\n",
    "type(a)"
   ]
  },
  {
   "cell_type": "code",
   "execution_count": 32,
   "id": "6ce8badc-e370-4be3-8a16-4048e25ba9dc",
   "metadata": {},
   "outputs": [
    {
     "data": {
      "text/plain": [
       "tuple"
      ]
     },
     "execution_count": 32,
     "metadata": {},
     "output_type": "execute_result"
    }
   ],
   "source": [
    "b=(\"python\",\"language\",9)\n",
    "type(b)"
   ]
  },
  {
   "cell_type": "code",
   "execution_count": 40,
   "id": "2c42dbed-83b5-4dfa-b345-663bed83a0c2",
   "metadata": {},
   "outputs": [
    {
     "data": {
      "text/plain": [
       "{2, 4, 6}"
      ]
     },
     "execution_count": 40,
     "metadata": {},
     "output_type": "execute_result"
    }
   ],
   "source": [
    "unique={2,4,6,6}\n",
    "unique"
   ]
  },
  {
   "cell_type": "code",
   "execution_count": 42,
   "id": "664c43c5-9269-4754-bd20-3b371250294a",
   "metadata": {},
   "outputs": [
    {
     "data": {
      "text/plain": [
       "set"
      ]
     },
     "execution_count": 42,
     "metadata": {},
     "output_type": "execute_result"
    }
   ],
   "source": [
    "type(unique)"
   ]
  }
 ],
 "metadata": {
  "kernelspec": {
   "display_name": "Python [conda env:base] *",
   "language": "python",
   "name": "conda-base-py"
  },
  "language_info": {
   "codemirror_mode": {
    "name": "ipython",
    "version": 3
   },
   "file_extension": ".py",
   "mimetype": "text/x-python",
   "name": "python",
   "nbconvert_exporter": "python",
   "pygments_lexer": "ipython3",
   "version": "3.12.7"
  }
 },
 "nbformat": 4,
 "nbformat_minor": 5
}
