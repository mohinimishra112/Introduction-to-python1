{
 "cells": [
  {
   "cell_type": "code",
   "execution_count": 1,
   "id": "c054867e-edc6-4107-8a17-50f905a86b04",
   "metadata": {},
   "outputs": [
    {
     "name": "stdout",
     "output_type": "stream",
     "text": [
      "P\n",
      "y\n",
      "t\n",
      "h\n",
      "o\n",
      "n\n"
     ]
    }
   ],
   "source": [
    "text = \"Python\"\n",
    "for char in text:\n",
    "    print(char)"
   ]
  },
  {
   "cell_type": "code",
   "execution_count": 5,
   "id": "ed58f72e-61fb-4c55-afeb-0a5d529c5dad",
   "metadata": {},
   "outputs": [
    {
     "data": {
      "text/plain": [
       "True"
      ]
     },
     "execution_count": 5,
     "metadata": {},
     "output_type": "execute_result"
    }
   ],
   "source": [
    "text = \"hello, World!\"\n",
    "\"W\" in text\n"
   ]
  },
  {
   "cell_type": "code",
   "execution_count": 7,
   "id": "2e25cde0-9bdd-4024-8f3a-aae5d9fb8cc5",
   "metadata": {},
   "outputs": [
    {
     "data": {
      "text/plain": [
       "True"
      ]
     },
     "execution_count": 7,
     "metadata": {},
     "output_type": "execute_result"
    }
   ],
   "source": [
    "'ello' in text"
   ]
  },
  {
   "cell_type": "code",
   "execution_count": 9,
   "id": "6f927a0e-941a-4ca5-a1a2-5074850ecd7d",
   "metadata": {},
   "outputs": [
    {
     "data": {
      "text/plain": [
       "True"
      ]
     },
     "execution_count": 9,
     "metadata": {},
     "output_type": "execute_result"
    }
   ],
   "source": [
    "'h' in text"
   ]
  },
  {
   "cell_type": "code",
   "execution_count": 13,
   "id": "926696e9-f34e-4626-b6dc-1c736bf9f80e",
   "metadata": {},
   "outputs": [
    {
     "data": {
      "text/plain": [
       "True"
      ]
     },
     "execution_count": 13,
     "metadata": {},
     "output_type": "execute_result"
    }
   ],
   "source": [
    "'d' in text"
   ]
  },
  {
   "cell_type": "code",
   "execution_count": 15,
   "id": "a6f76fe1-0b3e-44e8-a8c5-3313072bdbd8",
   "metadata": {},
   "outputs": [
    {
     "data": {
      "text/plain": [
       "False"
      ]
     },
     "execution_count": 15,
     "metadata": {},
     "output_type": "execute_result"
    }
   ],
   "source": [
    "text = \"Hello,  world!\"\n",
    "\"Hello\" not in text"
   ]
  },
  {
   "cell_type": "code",
   "execution_count": 17,
   "id": "45df7475-25da-4f04-9226-f7865538181f",
   "metadata": {},
   "outputs": [
    {
     "data": {
      "text/plain": [
       "True"
      ]
     },
     "execution_count": 17,
     "metadata": {},
     "output_type": "execute_result"
    }
   ],
   "source": [
    "'hap' not in text"
   ]
  },
  {
   "cell_type": "code",
   "execution_count": 30,
   "id": "0473cd79-8aba-4284-a56a-e6ab9885f441",
   "metadata": {},
   "outputs": [
    {
     "name": "stdout",
     "output_type": "stream",
     "text": [
      "HELLO WORLD!\n"
     ]
    }
   ],
   "source": [
    "text = \"hello world!\"\n",
    "uppercase_text = text.upper()\n",
    "print(uppercase_text)\n",
    "\n"
   ]
  },
  {
   "cell_type": "code",
   "execution_count": 28,
   "id": "1d817c16-31c2-4425-96a3-25d220b89505",
   "metadata": {},
   "outputs": [
    {
     "data": {
      "text/plain": [
       "'hello world'"
      ]
     },
     "execution_count": 28,
     "metadata": {},
     "output_type": "execute_result"
    }
   ],
   "source": [
    "text.lower\n",
    "'hello world'"
   ]
  },
  {
   "cell_type": "code",
   "execution_count": 32,
   "id": "5cac1f2d-9f23-4670-b1dd-aaae2870f125",
   "metadata": {},
   "outputs": [
    {
     "data": {
      "text/plain": [
       "'Hello, World! Try'"
      ]
     },
     "execution_count": 32,
     "metadata": {},
     "output_type": "execute_result"
    }
   ],
   "source": [
    "text = \"hello, world! try\"\n",
    "text.title()\n"
   ]
  },
  {
   "cell_type": "code",
   "execution_count": 34,
   "id": "7b59ffb1-a995-4e40-ba82-39e337eb7058",
   "metadata": {},
   "outputs": [
    {
     "data": {
      "text/plain": [
       "'Hello, World!'"
      ]
     },
     "execution_count": 34,
     "metadata": {},
     "output_type": "execute_result"
    }
   ],
   "source": [
    "text = \" Hello, World! \"\n",
    "text.strip()\n"
   ]
  },
  {
   "cell_type": "code",
   "execution_count": 36,
   "id": "6a943132-67c2-48ac-8536-4620d01e13cc",
   "metadata": {},
   "outputs": [
    {
     "data": {
      "text/plain": [
       "'Hello, Python!'"
      ]
     },
     "execution_count": 36,
     "metadata": {},
     "output_type": "execute_result"
    }
   ],
   "source": [
    "text = \"Hello, World!\"\n",
    "text.replace(\"World\", \"Python\")"
   ]
  },
  {
   "cell_type": "code",
   "execution_count": 40,
   "id": "d7608bbf-ec53-493b-840d-1f36b2966806",
   "metadata": {},
   "outputs": [
    {
     "data": {
      "text/plain": [
       "['Hello,', 'World!', 'this', 'is', 'asplit', 'method']"
      ]
     },
     "execution_count": 40,
     "metadata": {},
     "output_type": "execute_result"
    }
   ],
   "source": [
    "text = \"Hello, World! this is asplit method\"\n",
    "text.split(\" \")"
   ]
  },
  {
   "cell_type": "code",
   "execution_count": 44,
   "id": "42096dc0-a2e0-43c5-bce9-07c5bd61e570",
   "metadata": {},
   "outputs": [
    {
     "data": {
      "text/plain": [
       "['Hello, World! ', 'is asplit method']"
      ]
     },
     "execution_count": 44,
     "metadata": {},
     "output_type": "execute_result"
    }
   ],
   "source": [
    "text = \"Hello, World! this is asplit method\"\n",
    "text.split(\"this \")"
   ]
  },
  {
   "cell_type": "code",
   "execution_count": 46,
   "id": "e96cc3fc-fa6b-4cce-9cf0-d612b54d5c88",
   "metadata": {},
   "outputs": [
    {
     "data": {
      "text/plain": [
       "['Hello, World! this is asplit method']"
      ]
     },
     "execution_count": 46,
     "metadata": {},
     "output_type": "execute_result"
    }
   ],
   "source": [
    "text = \"Hello, World! this is asplit method\"\n",
    "text.split(\"Hello \")"
   ]
  },
  {
   "cell_type": "code",
   "execution_count": 48,
   "id": "0095d359-110c-4ee8-9c23-597e8c3e6729",
   "metadata": {},
   "outputs": [
    {
     "data": {
      "text/plain": [
       "['Hello,', 'World!', 'this', 'is', 'asplit', 'method']"
      ]
     },
     "execution_count": 48,
     "metadata": {},
     "output_type": "execute_result"
    }
   ],
   "source": [
    "text = \"Hello, World! this is asplit method\"\n",
    "text.split(' ')"
   ]
  },
  {
   "cell_type": "code",
   "execution_count": 50,
   "id": "94f2c8a0-4ba3-4127-bf29-d30042d9a7df",
   "metadata": {},
   "outputs": [
    {
     "data": {
      "text/plain": [
       "['Hello', 'World', 'this', 'is']"
      ]
     },
     "execution_count": 50,
     "metadata": {},
     "output_type": "execute_result"
    }
   ],
   "source": [
    "words = ['Hello', 'World',\"this\", \"is\"]\n",
    "words"
   ]
  },
  {
   "cell_type": "code",
   "execution_count": 54,
   "id": "be521dfa-c623-468e-8526-20a69bf38157",
   "metadata": {},
   "outputs": [],
   "source": [
    "joined_text = ' '.join(words)"
   ]
  },
  {
   "cell_type": "code",
   "execution_count": 58,
   "id": "bc4fe142-8422-459a-bd7a-3cb41d7f79e4",
   "metadata": {},
   "outputs": [
    {
     "data": {
      "text/plain": [
       "'Hello World this is'"
      ]
     },
     "execution_count": 58,
     "metadata": {},
     "output_type": "execute_result"
    }
   ],
   "source": [
    "joined_text"
   ]
  },
  {
   "cell_type": "code",
   "execution_count": 62,
   "id": "f8d41447-db8f-48f3-9698-449c0fc26e74",
   "metadata": {},
   "outputs": [],
   "source": [
    "joined_text = '_ '.join(words)"
   ]
  },
  {
   "cell_type": "code",
   "execution_count": 64,
   "id": "bd0e6906-c4e8-42a7-a0ee-4f0277094864",
   "metadata": {},
   "outputs": [
    {
     "data": {
      "text/plain": [
       "'Hello_ World_ this_ is'"
      ]
     },
     "execution_count": 64,
     "metadata": {},
     "output_type": "execute_result"
    }
   ],
   "source": [
    "joined_text"
   ]
  },
  {
   "cell_type": "code",
   "execution_count": 67,
   "id": "e21c6877-48ca-41f3-b33c-c5ff7ae49b01",
   "metadata": {},
   "outputs": [],
   "source": [
    "text = \"Hello, World!\"\n",
    "index = text.find(\"World\")"
   ]
  },
  {
   "cell_type": "code",
   "execution_count": 69,
   "id": "fdde94fa-d815-4650-b733-738d2dc107da",
   "metadata": {},
   "outputs": [
    {
     "data": {
      "text/plain": [
       "7"
      ]
     },
     "execution_count": 69,
     "metadata": {},
     "output_type": "execute_result"
    }
   ],
   "source": [
    "index"
   ]
  },
  {
   "cell_type": "code",
   "execution_count": 75,
   "id": "a0607cb5-4b56-46ba-b88b-be7f23d345a0",
   "metadata": {},
   "outputs": [],
   "source": [
    "text = \"Hello, World!\"\n",
    "count = text.count(\"o\")"
   ]
  },
  {
   "cell_type": "code",
   "execution_count": 77,
   "id": "d5fe9331-d916-41cb-9c82-5f73cc922900",
   "metadata": {},
   "outputs": [
    {
     "data": {
      "text/plain": [
       "2"
      ]
     },
     "execution_count": 77,
     "metadata": {},
     "output_type": "execute_result"
    }
   ],
   "source": [
    "count"
   ]
  },
  {
   "cell_type": "code",
   "execution_count": 81,
   "id": "c28d146a-6040-4d10-ac4b-6a4f91abd7ab",
   "metadata": {},
   "outputs": [],
   "source": [
    "text = \"Hello, World!\"\n",
    "count = text.count(\"Hello\")"
   ]
  },
  {
   "cell_type": "code",
   "execution_count": 83,
   "id": "068d0465-c385-4b53-a661-5efff1f8d2b7",
   "metadata": {},
   "outputs": [
    {
     "data": {
      "text/plain": [
       "1"
      ]
     },
     "execution_count": 83,
     "metadata": {},
     "output_type": "execute_result"
    }
   ],
   "source": [
    "count"
   ]
  },
  {
   "cell_type": "code",
   "execution_count": 85,
   "id": "db2c4589-2145-43a4-bc32-0a0f529bb218",
   "metadata": {},
   "outputs": [],
   "source": [
    "text = \"Hello, World!\""
   ]
  },
  {
   "cell_type": "code",
   "execution_count": 87,
   "id": "890fddf1-2a79-4387-a627-4b49d56b6243",
   "metadata": {},
   "outputs": [
    {
     "data": {
      "text/plain": [
       "False"
      ]
     },
     "execution_count": 87,
     "metadata": {},
     "output_type": "execute_result"
    }
   ],
   "source": [
    "text.startswith(\"World\")"
   ]
  },
  {
   "cell_type": "code",
   "execution_count": 94,
   "id": "e6dada99-e719-49ee-ad4c-98b8cdb8adf3",
   "metadata": {},
   "outputs": [
    {
     "data": {
      "text/plain": [
       "True"
      ]
     },
     "execution_count": 94,
     "metadata": {},
     "output_type": "execute_result"
    }
   ],
   "source": [
    "text = \"Hello, World!\"\n",
    "text.endswith(\"!\")"
   ]
  },
  {
   "cell_type": "code",
   "execution_count": 99,
   "id": "b6cc62ef-3b70-489e-aaa0-59bc3dcea813",
   "metadata": {},
   "outputs": [
    {
     "data": {
      "text/plain": [
       "True"
      ]
     },
     "execution_count": 99,
     "metadata": {},
     "output_type": "execute_result"
    }
   ],
   "source": [
    "text = \"12345\"\n",
    "text.isdigit()"
   ]
  },
  {
   "cell_type": "code",
   "execution_count": 101,
   "id": "b553e794-2c18-48a8-a68a-33583f474b85",
   "metadata": {},
   "outputs": [],
   "source": [
    "\n",
    "text = \"12345\"\n",
    "is_digit = text.isdigit()"
   ]
  },
  {
   "cell_type": "code",
   "execution_count": 105,
   "id": "e616ec79-dc70-49e1-9a3b-bd75998109ea",
   "metadata": {},
   "outputs": [
    {
     "data": {
      "text/plain": [
       "True"
      ]
     },
     "execution_count": 105,
     "metadata": {},
     "output_type": "execute_result"
    }
   ],
   "source": [
    "is_digit"
   ]
  },
  {
   "cell_type": "code",
   "execution_count": 109,
   "id": "d1e109e8-5e87-4cee-b4b9-8aaeed2b9660",
   "metadata": {},
   "outputs": [],
   "source": [
    "text = \"Hello\"\n",
    "is_alpha = text.isalpha()"
   ]
  },
  {
   "cell_type": "code",
   "execution_count": 114,
   "id": "2390c3b9-2a7f-4048-b94e-963d999e8c99",
   "metadata": {},
   "outputs": [
    {
     "data": {
      "text/plain": [
       "True"
      ]
     },
     "execution_count": 114,
     "metadata": {},
     "output_type": "execute_result"
    }
   ],
   "source": [
    "is_alpha"
   ]
  },
  {
   "cell_type": "raw",
   "id": "28bec1a8-e06e-4cb3-ae92-f45a21bf6a88",
   "metadata": {},
   "source": []
  },
  {
   "cell_type": "code",
   "execution_count": 117,
   "id": "776b2120-b3bf-48a1-9591-22df437bd1ea",
   "metadata": {},
   "outputs": [
    {
     "data": {
      "text/plain": [
       "True"
      ]
     },
     "execution_count": 117,
     "metadata": {},
     "output_type": "execute_result"
    }
   ],
   "source": [
    "text = \"hello\"\n",
    "is_lower = text.islower()\n",
    "is_lower"
   ]
  },
  {
   "cell_type": "code",
   "execution_count": 123,
   "id": "b751aa4f-4eb5-4024-a285-b49d7e937587",
   "metadata": {},
   "outputs": [
    {
     "data": {
      "text/plain": [
       "False"
      ]
     },
     "execution_count": 123,
     "metadata": {},
     "output_type": "execute_result"
    }
   ],
   "source": [
    "text = \"Hello\"\n",
    "is_upper = text.isupper()\n",
    "is_upper"
   ]
  },
  {
   "cell_type": "code",
   "execution_count": 125,
   "id": "0fbeb09b-80e4-445b-8bd1-fde2e0072c1c",
   "metadata": {},
   "outputs": [
    {
     "data": {
      "text/plain": [
       "'00042'"
      ]
     },
     "execution_count": 125,
     "metadata": {},
     "output_type": "execute_result"
    }
   ],
   "source": [
    "text  = \"42\"\n",
    "padded_text = text.zfill(5)\n",
    "padded_text"
   ]
  },
  {
   "cell_type": "code",
   "execution_count": 127,
   "id": "2e142f90-be1d-40ed-b15c-1fab15368f46",
   "metadata": {},
   "outputs": [
    {
     "data": {
      "text/plain": [
       "'00094'"
      ]
     },
     "execution_count": 127,
     "metadata": {},
     "output_type": "execute_result"
    }
   ],
   "source": [
    "text  = \"94\"\n",
    "padded_text = text.zfill(5)\n",
    "padded_text"
   ]
  },
  {
   "cell_type": "code",
   "execution_count": 133,
   "id": "d20c515b-c6c2-49f4-a88b-0c9e5a87d606",
   "metadata": {},
   "outputs": [],
   "source": [
    "text = \"Hello, Hello World!\"\n",
    "index = text.rfind(\"World\")\n"
   ]
  },
  {
   "cell_type": "code",
   "execution_count": 135,
   "id": "44769c63-2d76-4d6e-8ec3-2a4455397837",
   "metadata": {},
   "outputs": [
    {
     "data": {
      "text/plain": [
       "13"
      ]
     },
     "execution_count": 135,
     "metadata": {},
     "output_type": "execute_result"
    }
   ],
   "source": [
    "index"
   ]
  },
  {
   "cell_type": "code",
   "execution_count": null,
   "id": "b75ede0a-2800-4ec1-8a32-4f5cb0ec5e06",
   "metadata": {},
   "outputs": [],
   "source": []
  }
 ],
 "metadata": {
  "kernelspec": {
   "display_name": "Python [conda env:base] *",
   "language": "python",
   "name": "conda-base-py"
  },
  "language_info": {
   "codemirror_mode": {
    "name": "ipython",
    "version": 3
   },
   "file_extension": ".py",
   "mimetype": "text/x-python",
   "name": "python",
   "nbconvert_exporter": "python",
   "pygments_lexer": "ipython3",
   "version": "3.12.7"
  }
 },
 "nbformat": 4,
 "nbformat_minor": 5
}
