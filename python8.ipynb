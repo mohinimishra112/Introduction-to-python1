{
 "cells": [
  {
   "cell_type": "code",
   "execution_count": 1,
   "id": "0df6e863-f950-4483-9305-4574551b5af1",
   "metadata": {},
   "outputs": [],
   "source": [
    "t = (\"hello\",1,20,45,502.25,(1,2))"
   ]
  },
  {
   "cell_type": "code",
   "execution_count": 3,
   "id": "3e2cc40c-6bf8-47af-9964-e81738faf9d9",
   "metadata": {},
   "outputs": [
    {
     "data": {
      "text/plain": [
       "('hello', 1)"
      ]
     },
     "execution_count": 3,
     "metadata": {},
     "output_type": "execute_result"
    }
   ],
   "source": [
    "t[0:2]"
   ]
  },
  {
   "cell_type": "code",
   "execution_count": 5,
   "id": "fa11a358-336d-4b1a-8b75-eccbd4047d21",
   "metadata": {},
   "outputs": [],
   "source": [
    "my_tuple = (1, 2, 3) # []"
   ]
  },
  {
   "cell_type": "code",
   "execution_count": 7,
   "id": "f77c422e-3e68-4854-9932-73efc5d54359",
   "metadata": {},
   "outputs": [],
   "source": [
    "my_tuple = (1, 2, 3) # []"
   ]
  },
  {
   "cell_type": "code",
   "execution_count": 10,
   "id": "96ab26cc-43ee-41ff-ae27-58be118718c4",
   "metadata": {},
   "outputs": [
    {
     "data": {
      "text/plain": [
       "1"
      ]
     },
     "execution_count": 10,
     "metadata": {},
     "output_type": "execute_result"
    }
   ],
   "source": [
    "my_tuple[0] "
   ]
  },
  {
   "cell_type": "code",
   "execution_count": 12,
   "id": "0031f822-431f-4ed3-9b35-44fcdc38c7a3",
   "metadata": {},
   "outputs": [
    {
     "name": "stdout",
     "output_type": "stream",
     "text": [
      "30\n",
      "(20, 30, 40)\n"
     ]
    }
   ],
   "source": [
    "my_tuple = (10, 20, 30, 40, 50)\n",
    "print(my_tuple[2])    \n",
    "print(my_tuple[1:4])  \n"
   ]
  },
  {
   "cell_type": "code",
   "execution_count": 14,
   "id": "ca745f2a-9dbf-45d6-a077-2d71767087e2",
   "metadata": {},
   "outputs": [],
   "source": [
    "my_tuple = 1,2,3"
   ]
  },
  {
   "cell_type": "code",
   "execution_count": 16,
   "id": "60d62a45-b884-46e6-abd1-9fc04e53fe06",
   "metadata": {},
   "outputs": [
    {
     "data": {
      "text/plain": [
       "tuple"
      ]
     },
     "execution_count": 16,
     "metadata": {},
     "output_type": "execute_result"
    }
   ],
   "source": [
    "type(my_tuple)"
   ]
  },
  {
   "cell_type": "code",
   "execution_count": 18,
   "id": "170deb37-944b-42be-8193-15c76a2eb282",
   "metadata": {},
   "outputs": [
    {
     "name": "stdout",
     "output_type": "stream",
     "text": [
      "(1, 2, 3)\n"
     ]
    }
   ],
   "source": [
    "\n",
    "my_tuple = 1, 2, 3\n",
    "print(my_tuple) "
   ]
  },
  {
   "cell_type": "code",
   "execution_count": 20,
   "id": "d56e5420-1323-4d1e-957d-e207508e0c5d",
   "metadata": {},
   "outputs": [
    {
     "data": {
      "text/plain": [
       "(1, 2, 3)"
      ]
     },
     "execution_count": 20,
     "metadata": {},
     "output_type": "execute_result"
    }
   ],
   "source": [
    "my_tuple"
   ]
  },
  {
   "cell_type": "code",
   "execution_count": 22,
   "id": "38a08185-4a07-4f17-a45e-c62b2a62558e",
   "metadata": {},
   "outputs": [
    {
     "name": "stdout",
     "output_type": "stream",
     "text": [
      "1\n",
      "2\n",
      "3\n"
     ]
    }
   ],
   "source": [
    "\n",
    "a, b, c = my_tuple\n",
    "print(a)  \n",
    "print(b)  \n",
    "print(c)  "
   ]
  },
  {
   "cell_type": "code",
   "execution_count": 24,
   "id": "13119915-0574-4ab3-a4b5-fc75db3a61ed",
   "metadata": {},
   "outputs": [
    {
     "data": {
      "text/plain": [
       "1"
      ]
     },
     "execution_count": 24,
     "metadata": {},
     "output_type": "execute_result"
    }
   ],
   "source": [
    "a"
   ]
  },
  {
   "cell_type": "code",
   "execution_count": 26,
   "id": "a92dc422-e012-4700-b817-1e5b082ea690",
   "metadata": {},
   "outputs": [
    {
     "data": {
      "text/plain": [
       "int"
      ]
     },
     "execution_count": 26,
     "metadata": {},
     "output_type": "execute_result"
    }
   ],
   "source": [
    "\n",
    "type(a)"
   ]
  },
  {
   "cell_type": "code",
   "execution_count": 28,
   "id": "d79438d7-a2aa-44b1-8da7-61154e698732",
   "metadata": {},
   "outputs": [
    {
     "name": "stdout",
     "output_type": "stream",
     "text": [
      "('John', 25, 'Engineer')\n"
     ]
    }
   ],
   "source": [
    "\n",
    "person = (\"John\", 25, \"Engineer\")\n",
    "print(person)  "
   ]
  },
  {
   "cell_type": "code",
   "execution_count": 30,
   "id": "e1962e7f-159a-4e78-9957-eae28c5e9085",
   "metadata": {},
   "outputs": [
    {
     "name": "stdout",
     "output_type": "stream",
     "text": [
      "10 20 30\n"
     ]
    }
   ],
   "source": [
    "\n",
    "coordinates = (10, 20, 30)\n",
    "x = coordinates[0]\n",
    "y = coordinates[1]\n",
    "z = coordinates[2]\n",
    "print(x, y, z)  "
   ]
  },
  {
   "cell_type": "code",
   "execution_count": 32,
   "id": "c317d36a-bf9b-409a-9e2f-b9fff9fd23eb",
   "metadata": {},
   "outputs": [
    {
     "data": {
      "text/plain": [
       "3"
      ]
     },
     "execution_count": 32,
     "metadata": {},
     "output_type": "execute_result"
    }
   ],
   "source": [
    "l = [[1,2,3,4],[5,6,7,8,[1,2,3,4]]]\n",
    " \n",
    "l[1][4][2]      "
   ]
  },
  {
   "cell_type": "code",
   "execution_count": 36,
   "id": "6b577772-34ac-4156-8058-8461abb82c3b",
   "metadata": {},
   "outputs": [],
   "source": [
    "\n",
    "nested_tuple = (1, (2, 3), (4, (5, 6)))"
   ]
  },
  {
   "cell_type": "code",
   "execution_count": 38,
   "id": "f7091652-a447-496a-8769-2c8010650baf",
   "metadata": {},
   "outputs": [
    {
     "data": {
      "text/plain": [
       "2"
      ]
     },
     "execution_count": 38,
     "metadata": {},
     "output_type": "execute_result"
    }
   ],
   "source": [
    "nested_tuple[1][0]"
   ]
  },
  {
   "cell_type": "code",
   "execution_count": 40,
   "id": "f21bc4db-7206-443f-8115-a997463d72f9",
   "metadata": {},
   "outputs": [
    {
     "data": {
      "text/plain": [
       "6"
      ]
     },
     "execution_count": 40,
     "metadata": {},
     "output_type": "execute_result"
    }
   ],
   "source": [
    "nested_tuple[2][1][1]"
   ]
  },
  {
   "cell_type": "code",
   "execution_count": 42,
   "id": "f6d3a6b1-e17a-403c-9d25-e87df75ef4ac",
   "metadata": {},
   "outputs": [
    {
     "name": "stdout",
     "output_type": "stream",
     "text": [
      "5\n"
     ]
    }
   ],
   "source": [
    "print(nested_tuple[2][1][0]) "
   ]
  },
  {
   "cell_type": "code",
   "execution_count": 44,
   "id": "7d3b2b93-a512-410c-9241-1d3d3e9ff207",
   "metadata": {},
   "outputs": [],
   "source": [
    "\n",
    "my_tuple = (\"apple\", \"banana\", \"cherry\", \"date\")"
   ]
  },
  {
   "cell_type": "code",
   "execution_count": 46,
   "id": "aaa3a0f1-c930-4657-bcc8-7e0195625365",
   "metadata": {},
   "outputs": [],
   "source": [
    "\n",
    "first_element = my_tuple[0]\n",
    "second_element = my_tuple[1]\n",
    "third_element = my_tuple[2]"
   ]
  },
  {
   "cell_type": "code",
   "execution_count": 48,
   "id": "801deb1a-9220-4559-b7d5-e21728d6d42b",
   "metadata": {},
   "outputs": [
    {
     "name": "stdout",
     "output_type": "stream",
     "text": [
      "apple\n",
      "banana\n",
      "cherry\n"
     ]
    }
   ],
   "source": [
    "print(first_element)  \n",
    "print(second_element)\n",
    "print(third_element)  "
   ]
  },
  {
   "cell_type": "code",
   "execution_count": 50,
   "id": "525581b9-428c-4499-9ce2-057e037ca214",
   "metadata": {},
   "outputs": [],
   "source": [
    "\n",
    "my_tuple = (\"apple\", \"banana\", \"cherry\", \"date\")"
   ]
  },
  {
   "cell_type": "code",
   "execution_count": 52,
   "id": "59fc6154-99cc-47ca-aeaa-2dd3d28dba5c",
   "metadata": {},
   "outputs": [
    {
     "data": {
      "text/plain": [
       "'date'"
      ]
     },
     "execution_count": 52,
     "metadata": {},
     "output_type": "execute_result"
    }
   ],
   "source": [
    "my_tuple[-1]"
   ]
  },
  {
   "cell_type": "code",
   "execution_count": 54,
   "id": "2418d7b4-f543-4463-b243-0dd86850f791",
   "metadata": {},
   "outputs": [
    {
     "data": {
      "text/plain": [
       "('banana', 'cherry', 'date')"
      ]
     },
     "execution_count": 54,
     "metadata": {},
     "output_type": "execute_result"
    }
   ],
   "source": [
    "my_tuple[-3:]"
   ]
  },
  {
   "cell_type": "code",
   "execution_count": 56,
   "id": "076a2bf0-97fa-4723-ab5f-db0cd0f145cd",
   "metadata": {},
   "outputs": [],
   "source": [
    "\n",
    "last_element = my_tuple[-1]\n",
    "second_last_element = my_tuple[-2]"
   ]
  },
  {
   "cell_type": "code",
   "execution_count": 58,
   "id": "ef14a9d3-cc60-4852-8fd4-f800a19f4ac8",
   "metadata": {},
   "outputs": [
    {
     "name": "stdout",
     "output_type": "stream",
     "text": [
      "date\n",
      "cherry\n"
     ]
    }
   ],
   "source": [
    "print(last_element)\n",
    "print(second_last_element)"
   ]
  },
  {
   "cell_type": "code",
   "execution_count": 60,
   "id": "5dc38405-d0f0-4c63-be6b-be83d0034de9",
   "metadata": {},
   "outputs": [
    {
     "name": "stdout",
     "output_type": "stream",
     "text": [
      "True\n"
     ]
    }
   ],
   "source": [
    "\n",
    "my_tuple = (10, 20, 30, 40)\n",
    "\n",
    "is_present = 20 in my_tuple\n",
    "\n",
    "print(is_present)  \n"
   ]
  },
  {
   "cell_type": "code",
   "execution_count": 62,
   "id": "924585e3-7c8d-45f3-b4c6-d3783619138a",
   "metadata": {},
   "outputs": [],
   "source": [
    "my_tuple = (10, 20, 30, 40)"
   ]
  },
  {
   "cell_type": "code",
   "execution_count": 64,
   "id": "9acbeae6-bee9-43e5-bf8b-acafd9574bc1",
   "metadata": {},
   "outputs": [],
   "source": [
    "\n",
    "is_not_present = 50 not in my_tuple"
   ]
  },
  {
   "cell_type": "code",
   "execution_count": 66,
   "id": "c721d37b-d876-4460-b7fe-59b69cd260b7",
   "metadata": {},
   "outputs": [
    {
     "data": {
      "text/plain": [
       "[5, 6, 7, 8, [1, 2, 3, 4]]"
      ]
     },
     "execution_count": 66,
     "metadata": {},
     "output_type": "execute_result"
    }
   ],
   "source": [
    "l.pop()"
   ]
  },
  {
   "cell_type": "code",
   "execution_count": 70,
   "id": "b78b0430-58f8-4241-a25a-64816e260eba",
   "metadata": {},
   "outputs": [],
   "source": [
    "s=\"hello world\""
   ]
  },
  {
   "cell_type": "code",
   "execution_count": 72,
   "id": "7ad6031e-af5c-40a3-89ff-227d4c69a2f6",
   "metadata": {},
   "outputs": [],
   "source": [
    "l = [1,2,3,4,5,6]"
   ]
  },
  {
   "cell_type": "code",
   "execution_count": 74,
   "id": "d3923c94-e11c-4154-8431-42c113509026",
   "metadata": {},
   "outputs": [],
   "source": [
    "t = (1,2,3,4,5,6)"
   ]
  },
  {
   "cell_type": "code",
   "execution_count": 76,
   "id": "d946d594-de9e-4efb-b478-8d68378f4e0a",
   "metadata": {},
   "outputs": [],
   "source": [
    "l.append(5000)"
   ]
  },
  {
   "cell_type": "code",
   "execution_count": 78,
   "id": "de25f068-ad53-4ada-b1c3-48c538930d3c",
   "metadata": {},
   "outputs": [
    {
     "data": {
      "text/plain": [
       "1"
      ]
     },
     "execution_count": 78,
     "metadata": {},
     "output_type": "execute_result"
    }
   ],
   "source": [
    "1"
   ]
  },
  {
   "cell_type": "code",
   "execution_count": 80,
   "id": "e8fcdf04-d9fc-4dc4-8ff6-a382b0a908fc",
   "metadata": {},
   "outputs": [
    {
     "data": {
      "text/plain": [
       "5000"
      ]
     },
     "execution_count": 80,
     "metadata": {},
     "output_type": "execute_result"
    }
   ],
   "source": [
    "l.pop()"
   ]
  },
  {
   "cell_type": "code",
   "execution_count": 82,
   "id": "780da445-4ff5-446a-8309-9da33676b72c",
   "metadata": {},
   "outputs": [],
   "source": [
    "l.remove(5)"
   ]
  },
  {
   "cell_type": "code",
   "execution_count": 84,
   "id": "eba7754a-56fd-42b8-a4b1-37d5ee7b2783",
   "metadata": {},
   "outputs": [
    {
     "data": {
      "text/plain": [
       "1"
      ]
     },
     "execution_count": 84,
     "metadata": {},
     "output_type": "execute_result"
    }
   ],
   "source": [
    "1"
   ]
  },
  {
   "cell_type": "code",
   "execution_count": 86,
   "id": "6d3663b5-ad4a-4bac-90ca-7263ed6d2d49",
   "metadata": {},
   "outputs": [
    {
     "data": {
      "text/plain": [
       "1"
      ]
     },
     "execution_count": 86,
     "metadata": {},
     "output_type": "execute_result"
    }
   ],
   "source": [
    "l.index(2)"
   ]
  },
  {
   "cell_type": "code",
   "execution_count": 88,
   "id": "fdb8599e-c72d-41ed-ba8b-94b25ab6f0b9",
   "metadata": {},
   "outputs": [
    {
     "data": {
      "text/plain": [
       "str"
      ]
     },
     "execution_count": 88,
     "metadata": {},
     "output_type": "execute_result"
    }
   ],
   "source": [
    "type(s)"
   ]
  },
  {
   "cell_type": "code",
   "execution_count": 90,
   "id": "521afbb1-1156-4bb9-9167-5ec7e06af895",
   "metadata": {},
   "outputs": [
    {
     "data": {
      "text/plain": [
       "'HELLO WORLD'"
      ]
     },
     "execution_count": 90,
     "metadata": {},
     "output_type": "execute_result"
    }
   ],
   "source": [
    "s.upper()"
   ]
  },
  {
   "cell_type": "code",
   "execution_count": 92,
   "id": "576dc9fe-ad8c-4b9b-b82c-e18d1d213f57",
   "metadata": {},
   "outputs": [],
   "source": [
    "my_tuple = (1, 2, 3, 2, 4, 2, 5)"
   ]
  },
  {
   "cell_type": "code",
   "execution_count": 94,
   "id": "b9cd208e-da0b-4b2b-bf41-d572dff35424",
   "metadata": {},
   "outputs": [
    {
     "data": {
      "text/plain": [
       "1"
      ]
     },
     "execution_count": 94,
     "metadata": {},
     "output_type": "execute_result"
    }
   ],
   "source": [
    "my_tuple.count(4)"
   ]
  },
  {
   "cell_type": "code",
   "execution_count": 96,
   "id": "1100f936-4da3-4603-ad58-9c801e507dfe",
   "metadata": {},
   "outputs": [
    {
     "data": {
      "text/plain": [
       "3"
      ]
     },
     "execution_count": 96,
     "metadata": {},
     "output_type": "execute_result"
    }
   ],
   "source": [
    "my_tuple.count(2)\n"
   ]
  },
  {
   "cell_type": "code",
   "execution_count": 98,
   "id": "0207b9ba-daf1-4f0a-9cc6-d76df30d5d91",
   "metadata": {},
   "outputs": [],
   "source": [
    "\n",
    "my_tuple = ('a', 'b', 'c', 'b', 'd')"
   ]
  },
  {
   "cell_type": "code",
   "execution_count": 100,
   "id": "9ff508aa-575c-4c0a-af60-426e00eab50b",
   "metadata": {},
   "outputs": [
    {
     "data": {
      "text/plain": [
       "2"
      ]
     },
     "execution_count": 100,
     "metadata": {},
     "output_type": "execute_result"
    }
   ],
   "source": [
    "my_tuple.index(\"c\")"
   ]
  },
  {
   "cell_type": "code",
   "execution_count": 102,
   "id": "1ac827eb-2645-41ba-846f-d15940e27748",
   "metadata": {},
   "outputs": [
    {
     "name": "stdout",
     "output_type": "stream",
     "text": [
      "1\n"
     ]
    }
   ],
   "source": [
    "\n",
    "index_of_b = my_tuple.index('b')\n",
    "print(index_of_b)  # Output: 1"
   ]
  },
  {
   "cell_type": "code",
   "execution_count": 104,
   "id": "b3ab4950-045f-4ab4-987d-e25f12b1d87b",
   "metadata": {},
   "outputs": [
    {
     "name": "stdout",
     "output_type": "stream",
     "text": [
      "3\n"
     ]
    }
   ],
   "source": [
    "\n",
    "index_of_b_after_2 = my_tuple.index('b', 2)\n",
    "print(index_of_b_after_2)  "
   ]
  },
  {
   "cell_type": "code",
   "execution_count": 106,
   "id": "3afe0955-8124-45fa-a901-86991452801a",
   "metadata": {},
   "outputs": [
    {
     "name": "stdout",
     "output_type": "stream",
     "text": [
      "\n"
     ]
    }
   ],
   "source": [
    "\n",
    "\n",
    "\n",
    "\n",
    "print()"
   ]
  },
  {
   "cell_type": "code",
   "execution_count": 110,
   "id": "57c0a6fa-8043-4af8-8ba7-f6e1e33d6fc4",
   "metadata": {},
   "outputs": [
    {
     "name": "stdout",
     "output_type": "stream",
     "text": [
      "3\n"
     ]
    }
   ],
   "source": [
    "my_tuple = (10, 20, 30)\n",
    "length = len(my_tuple)\n",
    "print(length)  \n"
   ]
  },
  {
   "cell_type": "code",
   "execution_count": 112,
   "id": "373d86c0-03b3-4e28-a7b9-851adbad0b70",
   "metadata": {},
   "outputs": [],
   "source": [
    "t = (1,2,45,6,8,8)"
   ]
  },
  {
   "cell_type": "code",
   "execution_count": 114,
   "id": "cceabf8a-4f17-4ac2-97e0-a6c0225d38bc",
   "metadata": {},
   "outputs": [
    {
     "data": {
      "text/plain": [
       "45"
      ]
     },
     "execution_count": 114,
     "metadata": {},
     "output_type": "execute_result"
    }
   ],
   "source": [
    "max(t)"
   ]
  },
  {
   "cell_type": "code",
   "execution_count": 116,
   "id": "77823cea-0506-4bf2-b4e6-80fa56545061",
   "metadata": {},
   "outputs": [
    {
     "data": {
      "text/plain": [
       "30"
      ]
     },
     "execution_count": 116,
     "metadata": {},
     "output_type": "execute_result"
    }
   ],
   "source": [
    "max(my_tuple)"
   ]
  },
  {
   "cell_type": "code",
   "execution_count": 118,
   "id": "ffa620ce-9dd7-4b7f-aea9-f297cfc40579",
   "metadata": {},
   "outputs": [
    {
     "name": "stdout",
     "output_type": "stream",
     "text": [
      "30\n"
     ]
    }
   ],
   "source": [
    "my_tuple = (10, 20, 30)\n",
    "maximum_value = max(my_tuple)\n",
    "print(maximum_value)  \n"
   ]
  },
  {
   "cell_type": "code",
   "execution_count": 120,
   "id": "27c4927a-6fd8-4a19-817b-3a422048a2a3",
   "metadata": {},
   "outputs": [
    {
     "name": "stdout",
     "output_type": "stream",
     "text": [
      "10\n"
     ]
    }
   ],
   "source": [
    "my_tuple = (10, 20, 30)\n",
    "minimum_value = min(my_tuple)\n",
    "print(minimum_value)\n"
   ]
  },
  {
   "cell_type": "code",
   "execution_count": 122,
   "id": "50a08161-42cd-45ad-aa67-e6d766216c41",
   "metadata": {},
   "outputs": [
    {
     "name": "stdout",
     "output_type": "stream",
     "text": [
      "60\n"
     ]
    }
   ],
   "source": [
    "my_tuple = (10, 20, 30)\n",
    "total = sum(my_tuple)\n",
    "print(total)  \n",
    "\n"
   ]
  },
  {
   "cell_type": "code",
   "execution_count": 124,
   "id": "06d99886-6513-49e8-8c60-f017980a54c1",
   "metadata": {},
   "outputs": [
    {
     "name": "stdout",
     "output_type": "stream",
     "text": [
      "False\n"
     ]
    }
   ],
   "source": [
    "my_tuple = (0, 0, 0)\n",
    "result = any(my_tuple)\n",
    "print(result)  \n"
   ]
  },
  {
   "cell_type": "code",
   "execution_count": 126,
   "id": "4f990e52-6bd0-4032-bb2d-a5c490aa1dc3",
   "metadata": {},
   "outputs": [
    {
     "name": "stdout",
     "output_type": "stream",
     "text": [
      "True\n"
     ]
    }
   ],
   "source": [
    "my_tuple = (1, 2, 3)\n",
    "result = all(my_tuple)\n",
    "print(result) \n"
   ]
  },
  {
   "cell_type": "code",
   "execution_count": 130,
   "id": "c2e75461-2baf-4304-8c62-ef4bbe13823a",
   "metadata": {},
   "outputs": [
    {
     "name": "stdout",
     "output_type": "stream",
     "text": [
      "1 2\n",
      "[3, 4]\n"
     ]
    }
   ],
   "source": [
    "a,b,*others = (1,2,3,4)\n",
    "print(a,b)\n",
    "print(others)"
   ]
  },
  {
   "cell_type": "code",
   "execution_count": 132,
   "id": "a9d521ca-e5e8-4dbd-ba78-934ca410cc38",
   "metadata": {},
   "outputs": [],
   "source": [
    "\n",
    "tuple1 = (1, 2, 3)\n",
    "tuple2 = ('a', 'b', 'c')"
   ]
  },
  {
   "cell_type": "code",
   "execution_count": 134,
   "id": "702844dd-6052-4302-8f4a-dd27045222ee",
   "metadata": {},
   "outputs": [
    {
     "data": {
      "text/plain": [
       "1"
      ]
     },
     "execution_count": 134,
     "metadata": {},
     "output_type": "execute_result"
    }
   ],
   "source": [
    "a"
   ]
  },
  {
   "cell_type": "code",
   "execution_count": 138,
   "id": "4181b0a4-798d-4e8e-82d4-787c445bd20b",
   "metadata": {},
   "outputs": [
    {
     "name": "stdout",
     "output_type": "stream",
     "text": [
      "92\n",
      "76\n"
     ]
    }
   ],
   "source": [
    "\n",
    "\n",
    "scores = (88, 76, 92, 85, 79)\n",
    "\n",
    "highest_score = max(scores)\n",
    "lowest_score = min(scores)\n",
    "print(highest_score)  # Output: 92\n",
    "print(lowest_score)   # Output: 76\n",
    "\n"
   ]
  },
  {
   "cell_type": "code",
   "execution_count": null,
   "id": "b1f615a6-d50d-41c7-8938-bdaac3912e49",
   "metadata": {},
   "outputs": [],
   "source": []
  }
 ],
 "metadata": {
  "kernelspec": {
   "display_name": "Python [conda env:base] *",
   "language": "python",
   "name": "conda-base-py"
  },
  "language_info": {
   "codemirror_mode": {
    "name": "ipython",
    "version": 3
   },
   "file_extension": ".py",
   "mimetype": "text/x-python",
   "name": "python",
   "nbconvert_exporter": "python",
   "pygments_lexer": "ipython3",
   "version": "3.12.7"
  }
 },
 "nbformat": 4,
 "nbformat_minor": 5
}
